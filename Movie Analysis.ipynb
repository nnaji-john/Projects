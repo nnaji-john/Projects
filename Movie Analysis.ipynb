{
 "cells": [
  {
   "cell_type": "markdown",
   "id": "a3beecaa",
   "metadata": {},
   "source": [
    " <img src=\"https://img.freepik.com/free-vector/realistic-horizontal-cinema-movie-time-poster-with-3d-glasses-snacks-tickets-clapper-reel-blue-background-with-bokeh-vector-illustration_1284-77013.jpg\" \n",
    "    width = 1000 height = 30>"
   ]
  },
  {
   "cell_type": "markdown",
   "id": "9a5e3387",
   "metadata": {},
   "source": [
    "<div style=\"text-align:center; font-family:Georgia;\">\n",
    "    <h1>Does Budget affects Gross?</h1>\n",
    "</div>"
   ]
  },
  {
   "cell_type": "markdown",
   "id": "a3e552d6",
   "metadata": {},
   "source": [
    "<div style=\"font-family:Georgia;\">\n",
    "    <h3>Index:</h1>\n",
    "</div>"
   ]
  },
  {
   "cell_type": "markdown",
   "id": "d342d425",
   "metadata": {},
   "source": [
    "1. Introduction <br>\n",
    "2. Dataset Description <br>\n",
    "3. Import Libraries and Warnings<br>\n",
    "4. Load, view & describe data<br>\n",
    "5. Data Analysis<br>\n",
    "6. Conclusions <div>"
   ]
  },
  {
   "cell_type": "markdown",
   "id": "250d582a",
   "metadata": {},
   "source": [
    "------------------------------------------------------------------------------------------------------------------------------------------------------------------------------"
   ]
  },
  {
   "cell_type": "markdown",
   "id": "832464ac",
   "metadata": {},
   "source": [
    "<div style=\"font-family:Georgia;\">\n",
    "    <h3>1. Introduction:</h1>\n",
    "</div>"
   ]
  },
  {
   "cell_type": "markdown",
   "id": "149ec790",
   "metadata": {},
   "source": [
    "&nbsp; &nbsp; &nbsp; &nbsp; &nbsp; &nbsp; This project delves into the intricate workings of the film industry, focusing on the extraction, transformation, and loading of a movie dataset from Kaggle. We'll explore the effective methods for importing essential Python libraries, cleansing the dataset, ensuring data accuracy, and executing hypothesis testing to ascertain the impact of various elements on a movie's financial success. Moreover, the assignment will emphasize the optimal Python techniques for data analysis and visualization.\n",
    "<br>\n",
    "\n",
    "&nbsp; &nbsp; &nbsp; &nbsp; &nbsp; &nbsp; **Hypotheses**\n",
    "<br>\n",
    "&nbsp; &nbsp; &nbsp; &nbsp; &nbsp; &nbsp; Upon initial examination of the dataset, it becomes evident that multiple elements influence a movie's box office success. The data sheds light on aspects such as release dates, ratings, production teams, and budgets, offering a comprehensive understanding of the movie industry. Considering the commercial nature of filmmaking, curiosity has sparked an exploration into the correlation between a film's budget and its gross revenue. This led to the formulation of a hypothesis: Does a larger budget correlate with higher gross earnings? Additionally, the dataset prompts an investigation into the variability of gross earnings across different genres. The aim is to identify which genres typically yield the highest box office returns and to analyze the current trends and patterns associated with these genres."
   ]
  },
  {
   "cell_type": "markdown",
   "id": "e277cd36",
   "metadata": {},
   "source": [
    "------------------------------------------------------------------------------------------------------------------------------------------------------------------------------"
   ]
  },
  {
   "cell_type": "markdown",
   "id": "3d569f54",
   "metadata": {},
   "source": [
    "<div style=\"font-family:Georgia;\">\n",
    "    <h3>2. Dataset Description:</h1>\n",
    "</div>"
   ]
  },
  {
   "cell_type": "markdown",
   "id": "5754d072",
   "metadata": {},
   "source": [
    "&nbsp; &nbsp; &nbsp; &nbsp; &nbsp; &nbsp; This data was scraped from IMDb and includes 6820 movies from 1986-2016.\n",
    "<br>    \n",
    "\n",
    "| Variable | Description\n",
    "| :------------- | :-------------\n",
    "| budget | the budget of a movie. Some movies don't have this, so it appears as 0\n",
    "| company | the production company\n",
    "| country | country of origin\n",
    "| director | the director\n",
    "| genre | main genre of the movie.\n",
    "| gross |revenue of the movie\n",
    "| name | name of the movie\n",
    "| rating | rating of the movie (R, PG, etc.)\n",
    "| released | release date (YYYY-MM-DD)\n",
    "| runtime | duration of the movie\n",
    "| score | IMDb user rating\n",
    "| votes | number of user votes\n",
    "| star | main actor/actress\n",
    "| writer | writer of the movie\n",
    "| year | year of release\n",
    "\n",
    "\n",
    "&nbsp; &nbsp; &nbsp; &nbsp; &nbsp; &nbsp; Data Source: https://www.kaggle.com/datasets/danielgrijalvas/movies/data \n",
    "<br>\n",
    "&nbsp; &nbsp; &nbsp; &nbsp; &nbsp; &nbsp; Retrieved: [November 30, 2023]\n",
    "<br>\n",
    "    "
   ]
  },
  {
   "cell_type": "markdown",
   "id": "2e2e1cd1",
   "metadata": {},
   "source": [
    "------------------------------------------------------------------------------------------------------------------------------------------------------------------------------"
   ]
  },
  {
   "cell_type": "markdown",
   "id": "9cc9908a",
   "metadata": {},
   "source": [
    "<div style=\"font-family:Georgia;\">\n",
    "    <h3>3. Import Libraries and Warnings:</h3>\n",
    "</div>"
   ]
  },
  {
   "cell_type": "markdown",
   "id": "b870719c",
   "metadata": {},
   "source": [
    "&nbsp; &nbsp; &nbsp; &nbsp; &nbsp; &nbsp; In this Jupyter Notebook analysis, we begin by importing essential Python libraries, a crucial step for data manipulation, statistical analysis, and visualization. Simultaneously, we execute a code snippet to suppress warnings, ensuring a streamlined output during our workflow. \n",
    "</div>"
   ]
  },
  {
   "cell_type": "code",
   "execution_count": 1,
   "id": "ccfc5ad1",
   "metadata": {},
   "outputs": [],
   "source": [
    "# Ignore warnings\n",
    "import warnings\n",
    "warnings.filterwarnings(\"ignore\") "
   ]
  },
  {
   "cell_type": "code",
   "execution_count": 2,
   "id": "b7fb8c9e",
   "metadata": {},
   "outputs": [],
   "source": [
    "# Importing libraries\n",
    "import re\n",
    "import numpy as np # linear algebra\n",
    "import pandas as pd # data processing, CSV file I/O (e.g. pd.read_csv)\n",
    "from matplotlib import pyplot as plt # create graphs\n",
    "import seaborn as sns # create graphs\n",
    "from scipy.stats import f_oneway\n",
    "import statsmodels.api as sm\n",
    "from statsmodels.stats.multicomp import pairwise_tukeyhsd\n",
    "import statsmodels.api as sm # Statistical modeling and hypothesis testing"
   ]
  },
  {
   "cell_type": "code",
   "execution_count": 3,
   "id": "360278dd",
   "metadata": {},
   "outputs": [],
   "source": [
    "# Random Seed\n",
    "np.random.seed(42)"
   ]
  },
  {
   "cell_type": "markdown",
   "id": "a0075d4b",
   "metadata": {},
   "source": [
    "------------------------------------------------------------------------------------------------------------------------------------------------------------------------------"
   ]
  },
  {
   "cell_type": "markdown",
   "id": "cc322327",
   "metadata": {},
   "source": [
    " <div style=\"font-family:Georgia;\">\n",
    "    <h3>4. Load, View, and Describe Data:</h3>\n",
    "</div>"
   ]
  },
  {
   "cell_type": "markdown",
   "id": "433841f5",
   "metadata": {},
   "source": [
    " <div style=\"font-family:Georgia;\">\n",
    "    <h4>4.1 Data Display within the Dataframe:</h4>\n",
    "</div>"
   ]
  },
  {
   "cell_type": "markdown",
   "id": "11b7d248",
   "metadata": {},
   "source": [
    "&nbsp; &nbsp; &nbsp; &nbsp; &nbsp; &nbsp; The dataset, housed within a 'data' folder, is promptly imported.\n",
    "</div>"
   ]
  },
  {
   "cell_type": "code",
   "execution_count": 4,
   "id": "a70f3f9e",
   "metadata": {},
   "outputs": [],
   "source": [
    "# Specify the path to the datasets\n",
    "data_path = \"./data/\"\n",
    "\n",
    "# Specify the filenames of the datasets\n",
    "movie_filename = \"movies.csv\"\n",
    "\n",
    "# Read the CSV files and create backup copies\n",
    "movie_df_data = pd.read_csv(data_path + movie_filename)\n",
    "\n",
    "# Create working copies of the dataframes for analysis\n",
    "movie_df = movie_df_data.copy()"
   ]
  },
  {
   "cell_type": "code",
   "execution_count": 5,
   "id": "c59de69c",
   "metadata": {},
   "outputs": [
    {
     "data": {
      "text/plain": [
       "(7668, 15)"
      ]
     },
     "execution_count": 5,
     "metadata": {},
     "output_type": "execute_result"
    }
   ],
   "source": [
    "#Check the number of rows and  number of columns \n",
    "movie_df.shape"
   ]
  },
  {
   "cell_type": "markdown",
   "id": "44a93ff0",
   "metadata": {},
   "source": [
    "&nbsp; &nbsp; &nbsp; &nbsp; &nbsp; &nbsp; It comprises 15 columns and 7,668 rows, with the `display.max_columns` command activated for a comprehensive view.\n",
    "</div>"
   ]
  },
  {
   "cell_type": "code",
   "execution_count": 6,
   "id": "257d635e",
   "metadata": {
    "scrolled": true
   },
   "outputs": [
    {
     "data": {
      "text/html": [
       "<div>\n",
       "<style scoped>\n",
       "    .dataframe tbody tr th:only-of-type {\n",
       "        vertical-align: middle;\n",
       "    }\n",
       "\n",
       "    .dataframe tbody tr th {\n",
       "        vertical-align: top;\n",
       "    }\n",
       "\n",
       "    .dataframe thead th {\n",
       "        text-align: right;\n",
       "    }\n",
       "</style>\n",
       "<table border=\"1\" class=\"dataframe\">\n",
       "  <thead>\n",
       "    <tr style=\"text-align: right;\">\n",
       "      <th></th>\n",
       "      <th>name</th>\n",
       "      <th>rating</th>\n",
       "      <th>genre</th>\n",
       "      <th>year</th>\n",
       "      <th>released</th>\n",
       "      <th>score</th>\n",
       "      <th>votes</th>\n",
       "      <th>director</th>\n",
       "      <th>writer</th>\n",
       "      <th>star</th>\n",
       "      <th>country</th>\n",
       "      <th>budget</th>\n",
       "      <th>gross</th>\n",
       "      <th>company</th>\n",
       "      <th>runtime</th>\n",
       "    </tr>\n",
       "  </thead>\n",
       "  <tbody>\n",
       "    <tr>\n",
       "      <th>2029</th>\n",
       "      <td>Liebestraum</td>\n",
       "      <td>R</td>\n",
       "      <td>Mystery</td>\n",
       "      <td>1991</td>\n",
       "      <td>November 1991 (United States)</td>\n",
       "      <td>5.9</td>\n",
       "      <td>1500.0</td>\n",
       "      <td>Mike Figgis</td>\n",
       "      <td>Mike Figgis</td>\n",
       "      <td>Kevin Anderson</td>\n",
       "      <td>United States</td>\n",
       "      <td>6900000.0</td>\n",
       "      <td>133645.0</td>\n",
       "      <td>Initial Entertainment Group (IEG)</td>\n",
       "      <td>112.0</td>\n",
       "    </tr>\n",
       "    <tr>\n",
       "      <th>2882</th>\n",
       "      <td>Beautiful Girls</td>\n",
       "      <td>R</td>\n",
       "      <td>Comedy</td>\n",
       "      <td>1996</td>\n",
       "      <td>February 9, 1996 (United States)</td>\n",
       "      <td>7.1</td>\n",
       "      <td>32000.0</td>\n",
       "      <td>Ted Demme</td>\n",
       "      <td>Scott Rosenberg</td>\n",
       "      <td>Matt Dillon</td>\n",
       "      <td>United States</td>\n",
       "      <td>NaN</td>\n",
       "      <td>10597759.0</td>\n",
       "      <td>Miramax</td>\n",
       "      <td>112.0</td>\n",
       "    </tr>\n",
       "    <tr>\n",
       "      <th>2748</th>\n",
       "      <td>Man of the House</td>\n",
       "      <td>PG</td>\n",
       "      <td>Comedy</td>\n",
       "      <td>1995</td>\n",
       "      <td>March 3, 1995 (United States)</td>\n",
       "      <td>5.2</td>\n",
       "      <td>8900.0</td>\n",
       "      <td>James Orr</td>\n",
       "      <td>David E. Peckinpah</td>\n",
       "      <td>Chevy Chase</td>\n",
       "      <td>United States</td>\n",
       "      <td>NaN</td>\n",
       "      <td>40070995.0</td>\n",
       "      <td>All Girl Productions</td>\n",
       "      <td>96.0</td>\n",
       "    </tr>\n",
       "    <tr>\n",
       "      <th>5559</th>\n",
       "      <td>After.Life</td>\n",
       "      <td>R</td>\n",
       "      <td>Drama</td>\n",
       "      <td>2009</td>\n",
       "      <td>December 16, 2009 (Brazil)</td>\n",
       "      <td>5.9</td>\n",
       "      <td>37000.0</td>\n",
       "      <td>Agnieszka Wojtowicz-Vosloo</td>\n",
       "      <td>Agnieszka Wojtowicz-Vosloo</td>\n",
       "      <td>Christina Ricci</td>\n",
       "      <td>United States</td>\n",
       "      <td>4500000.0</td>\n",
       "      <td>2425535.0</td>\n",
       "      <td>Lleju Productions</td>\n",
       "      <td>104.0</td>\n",
       "    </tr>\n",
       "    <tr>\n",
       "      <th>1728</th>\n",
       "      <td>The Freshman</td>\n",
       "      <td>PG</td>\n",
       "      <td>Comedy</td>\n",
       "      <td>1990</td>\n",
       "      <td>July 27, 1990 (United States)</td>\n",
       "      <td>6.5</td>\n",
       "      <td>19000.0</td>\n",
       "      <td>Andrew Bergman</td>\n",
       "      <td>Andrew Bergman</td>\n",
       "      <td>Marlon Brando</td>\n",
       "      <td>United States</td>\n",
       "      <td>12000000.0</td>\n",
       "      <td>21460601.0</td>\n",
       "      <td>TriStar Pictures</td>\n",
       "      <td>102.0</td>\n",
       "    </tr>\n",
       "  </tbody>\n",
       "</table>\n",
       "</div>"
      ],
      "text/plain": [
       "                  name rating    genre  year  \\\n",
       "2029       Liebestraum      R  Mystery  1991   \n",
       "2882   Beautiful Girls      R   Comedy  1996   \n",
       "2748  Man of the House     PG   Comedy  1995   \n",
       "5559        After.Life      R    Drama  2009   \n",
       "1728      The Freshman     PG   Comedy  1990   \n",
       "\n",
       "                              released  score    votes  \\\n",
       "2029     November 1991 (United States)    5.9   1500.0   \n",
       "2882  February 9, 1996 (United States)    7.1  32000.0   \n",
       "2748     March 3, 1995 (United States)    5.2   8900.0   \n",
       "5559        December 16, 2009 (Brazil)    5.9  37000.0   \n",
       "1728     July 27, 1990 (United States)    6.5  19000.0   \n",
       "\n",
       "                        director                      writer             star  \\\n",
       "2029                 Mike Figgis                 Mike Figgis   Kevin Anderson   \n",
       "2882                   Ted Demme             Scott Rosenberg      Matt Dillon   \n",
       "2748                   James Orr          David E. Peckinpah      Chevy Chase   \n",
       "5559  Agnieszka Wojtowicz-Vosloo  Agnieszka Wojtowicz-Vosloo  Christina Ricci   \n",
       "1728              Andrew Bergman              Andrew Bergman    Marlon Brando   \n",
       "\n",
       "            country      budget       gross  \\\n",
       "2029  United States   6900000.0    133645.0   \n",
       "2882  United States         NaN  10597759.0   \n",
       "2748  United States         NaN  40070995.0   \n",
       "5559  United States   4500000.0   2425535.0   \n",
       "1728  United States  12000000.0  21460601.0   \n",
       "\n",
       "                                company  runtime  \n",
       "2029  Initial Entertainment Group (IEG)    112.0  \n",
       "2882                            Miramax    112.0  \n",
       "2748               All Girl Productions     96.0  \n",
       "5559                  Lleju Productions    104.0  \n",
       "1728                   TriStar Pictures    102.0  "
      ]
     },
     "execution_count": 6,
     "metadata": {},
     "output_type": "execute_result"
    }
   ],
   "source": [
    "# Option to display all columns\n",
    "pd.set_option('display.max_columns', None)\n",
    "movie_df.sample(5)"
   ]
  },
  {
   "cell_type": "code",
   "execution_count": 7,
   "id": "be6f0ce1",
   "metadata": {},
   "outputs": [
    {
     "data": {
      "text/html": [
       "<div>\n",
       "<style scoped>\n",
       "    .dataframe tbody tr th:only-of-type {\n",
       "        vertical-align: middle;\n",
       "    }\n",
       "\n",
       "    .dataframe tbody tr th {\n",
       "        vertical-align: top;\n",
       "    }\n",
       "\n",
       "    .dataframe thead th {\n",
       "        text-align: right;\n",
       "    }\n",
       "</style>\n",
       "<table border=\"1\" class=\"dataframe\">\n",
       "  <thead>\n",
       "    <tr style=\"text-align: right;\">\n",
       "      <th></th>\n",
       "      <th>year</th>\n",
       "      <th>score</th>\n",
       "      <th>votes</th>\n",
       "      <th>budget</th>\n",
       "      <th>gross</th>\n",
       "      <th>runtime</th>\n",
       "    </tr>\n",
       "  </thead>\n",
       "  <tbody>\n",
       "    <tr>\n",
       "      <th>count</th>\n",
       "      <td>7668.000</td>\n",
       "      <td>7665.000</td>\n",
       "      <td>7665.000</td>\n",
       "      <td>5497.000</td>\n",
       "      <td>7479.000</td>\n",
       "      <td>7664.000</td>\n",
       "    </tr>\n",
       "    <tr>\n",
       "      <th>mean</th>\n",
       "      <td>2000.405</td>\n",
       "      <td>6.390</td>\n",
       "      <td>88108.505</td>\n",
       "      <td>35589876.193</td>\n",
       "      <td>78500541.018</td>\n",
       "      <td>107.262</td>\n",
       "    </tr>\n",
       "    <tr>\n",
       "      <th>std</th>\n",
       "      <td>11.154</td>\n",
       "      <td>0.969</td>\n",
       "      <td>163323.764</td>\n",
       "      <td>41457296.602</td>\n",
       "      <td>165725124.319</td>\n",
       "      <td>18.581</td>\n",
       "    </tr>\n",
       "    <tr>\n",
       "      <th>min</th>\n",
       "      <td>1980.000</td>\n",
       "      <td>1.900</td>\n",
       "      <td>7.000</td>\n",
       "      <td>3000.000</td>\n",
       "      <td>309.000</td>\n",
       "      <td>55.000</td>\n",
       "    </tr>\n",
       "    <tr>\n",
       "      <th>25%</th>\n",
       "      <td>1991.000</td>\n",
       "      <td>5.800</td>\n",
       "      <td>9100.000</td>\n",
       "      <td>10000000.000</td>\n",
       "      <td>4532055.500</td>\n",
       "      <td>95.000</td>\n",
       "    </tr>\n",
       "    <tr>\n",
       "      <th>50%</th>\n",
       "      <td>2000.000</td>\n",
       "      <td>6.500</td>\n",
       "      <td>33000.000</td>\n",
       "      <td>20500000.000</td>\n",
       "      <td>20205757.000</td>\n",
       "      <td>104.000</td>\n",
       "    </tr>\n",
       "    <tr>\n",
       "      <th>75%</th>\n",
       "      <td>2010.000</td>\n",
       "      <td>7.100</td>\n",
       "      <td>93000.000</td>\n",
       "      <td>45000000.000</td>\n",
       "      <td>76016691.500</td>\n",
       "      <td>116.000</td>\n",
       "    </tr>\n",
       "    <tr>\n",
       "      <th>max</th>\n",
       "      <td>2020.000</td>\n",
       "      <td>9.300</td>\n",
       "      <td>2400000.000</td>\n",
       "      <td>356000000.000</td>\n",
       "      <td>2847246203.000</td>\n",
       "      <td>366.000</td>\n",
       "    </tr>\n",
       "  </tbody>\n",
       "</table>\n",
       "</div>"
      ],
      "text/plain": [
       "          year    score       votes        budget          gross  runtime\n",
       "count 7668.000 7665.000    7665.000      5497.000       7479.000 7664.000\n",
       "mean  2000.405    6.390   88108.505  35589876.193   78500541.018  107.262\n",
       "std     11.154    0.969  163323.764  41457296.602  165725124.319   18.581\n",
       "min   1980.000    1.900       7.000      3000.000        309.000   55.000\n",
       "25%   1991.000    5.800    9100.000  10000000.000    4532055.500   95.000\n",
       "50%   2000.000    6.500   33000.000  20500000.000   20205757.000  104.000\n",
       "75%   2010.000    7.100   93000.000  45000000.000   76016691.500  116.000\n",
       "max   2020.000    9.300 2400000.000 356000000.000 2847246203.000  366.000"
      ]
     },
     "execution_count": 7,
     "metadata": {},
     "output_type": "execute_result"
    }
   ],
   "source": [
    "#  Now when using describe, the numbers will be displayed without scientific notation \n",
    "pd.set_option('display.float_format', lambda x: '%.3f' % x)\n",
    "\n",
    "# Get the statistical summary of numeric columns of DataFrame: movie_df\n",
    "movie_df.describe()"
   ]
  },
  {
   "cell_type": "markdown",
   "id": "5c3446c3",
   "metadata": {},
   "source": [
    "There are a few insights we can take out of this output:\n",
    "\n",
    "- In the kaggle description of the dataset it states that the maximum `year` included is 2016, still there are movies from 2020 as seen in the maximum year values.\n",
    "- The `score` is cluster around a score of 6.3, with their 25th, 50th and 75th percentiles increasing progresively up to 7.1, while the maximum is 9.3. None of the movies reach to a perfect score of 10.\n",
    "- The minimum `duration` of a movie is 55 minutes, while three quarters of the data have a duration of almost two houres (116 minutes). The maximum value triples the 75% percentile, with a duration of six hours.\n",
    "- There is a huge difference regarding the minimum and maximum values of `budget`and `gross` respectively. This can be better observed in the histograms below."
   ]
  },
  {
   "cell_type": "code",
   "execution_count": 8,
   "id": "770880a0",
   "metadata": {},
   "outputs": [
    {
     "data": {
      "image/png": "[encoded data removed]",
      "text/plain": [
       "<Figure size 1500x1000 with 6 Axes>"
      ]
     },
     "metadata": {},
     "output_type": "display_data"
    }
   ],
   "source": [
    "# Total Quality Points\n",
    "desc_columns = ['year', 'score', 'votes', 'budget', 'gross', 'runtime']\n",
    "desc_df = movie_df[desc_columns]\n",
    "\n",
    "# Set the number of rows and columns for subplots\n",
    "num_rows = 2\n",
    "num_cols = 3\n",
    "\n",
    "# Create subplots\n",
    "fig, axes = plt.subplots(nrows=num_rows, ncols=num_cols, figsize=(15, 10))\n",
    "\n",
    "# Plot histograms for each column\n",
    "for i, column in enumerate(desc_df.columns):\n",
    "    row = i // num_cols\n",
    "    col = i % num_cols\n",
    "    desc_df[column].hist(ax=axes[row, col], bins=10)\n",
    "    axes[row, col].set_title(column)\n",
    "    axes[row, col].set_xlabel('Value')\n",
    "    axes[row, col].set_ylabel('Frequency')\n",
    "\n",
    "# Adjust layout for better spacing\n",
    "plt.tight_layout()\n",
    "plt.show();"
   ]
  },
  {
   "cell_type": "markdown",
   "id": "be6c8402",
   "metadata": {},
   "source": [
    "The histograms reflect the points mentioned above.\n",
    "\n",
    "- The movies are in the dataset are from 1980 to 2020.\n",
    "- The `score` values are clustered between the values of 6 and 8\n",
    "- The `budget` and `gross` seem to have similar distribution as most of the values are below 0.5 million dollars.\n",
    "- The `runtime`is clusted around 100 minutes, with the outlier mentioned above of 366 minutes."
   ]
  },
  {
   "cell_type": "markdown",
   "id": "788b1daf",
   "metadata": {},
   "source": [
    "------------------------------------------------------------------------------------------------------------------------------------------------------------------------------"
   ]
  },
  {
   "cell_type": "markdown",
   "id": "aee46066",
   "metadata": {},
   "source": [
    "<div style=\"font-family:Georgia\">    \n",
    "<h4> 4.2 Clean missing values:</h4>\n",
    "</div>"
   ]
  },
  {
   "cell_type": "markdown",
   "id": "bd8d177e",
   "metadata": {},
   "source": [
    "&nbsp; &nbsp; &nbsp; &nbsp; &nbsp; &nbsp; Before starting the analysis, the data needs to be clean. For starters, all null values are going to be checked."
   ]
  },
  {
   "cell_type": "code",
   "execution_count": 9,
   "id": "29bd0ba2",
   "metadata": {},
   "outputs": [
    {
     "data": {
      "text/plain": [
       "29.30359937402191"
      ]
     },
     "execution_count": 9,
     "metadata": {},
     "output_type": "execute_result"
    }
   ],
   "source": [
    "#Checking out the percentage of missing values out of the total dataset\n",
    "missing_data = movie_df[movie_df.isna().sum(axis=1)>0]\n",
    "len(missing_data)/len(movie_df)*100"
   ]
  },
  {
   "cell_type": "markdown",
   "id": "8559373f",
   "metadata": {},
   "source": [
    "&nbsp; &nbsp; &nbsp; &nbsp; &nbsp; &nbsp; An overall of 29% of the data is null. The next step is to go deeper on detail."
   ]
  },
  {
   "cell_type": "code",
   "execution_count": 10,
   "id": "80ec7a3a",
   "metadata": {},
   "outputs": [
    {
     "name": "stdout",
     "output_type": "stream",
     "text": [
      "          Missing Count  Missing Percentage\n",
      "name                  0               0.000\n",
      "rating               77               1.000\n",
      "genre                 0               0.000\n",
      "year                  0               0.000\n",
      "released              2               0.030\n",
      "score                 3               0.040\n",
      "votes                 3               0.040\n",
      "director              0               0.000\n",
      "writer                3               0.040\n",
      "star                  1               0.010\n",
      "country               3               0.040\n",
      "budget             2171              28.310\n",
      "gross               189               2.460\n",
      "company              17               0.220\n",
      "runtime               4               0.050\n"
     ]
    }
   ],
   "source": [
    "# Count of missing values\n",
    "missing_count = movie_df.isnull().sum()\n",
    "\n",
    "# Percentage of missing values\n",
    "missing_percentage = ((movie_df.isnull() | movie_df.isna()).sum() * 100 / movie_df.index.size).round(2)\n",
    "\n",
    "# Combine the results into a new DataFrame\n",
    "missing_info_df = pd.concat([missing_count, missing_percentage], axis=1, keys=['Missing Count', 'Missing Percentage'])\n",
    "\n",
    "# Display the combined DataFrame\n",
    "print(missing_info_df)"
   ]
  },
  {
   "cell_type": "markdown",
   "id": "707f69d5",
   "metadata": {},
   "source": [
    "&nbsp; &nbsp; &nbsp; &nbsp; &nbsp; &nbsp; A detailed assessment of missing values across columns indicates a discrepancy: while most columns have less than 1% missing values, the 'budget' column stands out with about 29% nulls."
   ]
  },
  {
   "cell_type": "code",
   "execution_count": 11,
   "id": "7ccc77b4",
   "metadata": {},
   "outputs": [
    {
     "data": {
      "image/png": "[encoded data removed]",
      "text/plain": [
       "<Figure size 1200x500 with 2 Axes>"
      ]
     },
     "metadata": {},
     "output_type": "display_data"
    }
   ],
   "source": [
    "#Display of missing values using heatmap\n",
    "plt.figure(figsize=(12,5))\n",
    "sns.heatmap(movie_df.isnull(), cmap = \"Purples\")                       \n",
    "plt.title(\"Missing values\", fontsize = 13)\n",
    "plt.show()"
   ]
  },
  {
   "cell_type": "markdown",
   "id": "82498b8d",
   "metadata": {},
   "source": [
    "&nbsp; &nbsp; &nbsp; &nbsp; &nbsp; &nbsp; To maintain the dataset's integrity and minimize loss of information, we adopt a strategic approach to handle these missing values. For columns with less than 1% missing values, we opt for deletion, given their negligible impact on the overall dataset. Conversely, for the 'budget' and 'gross' columns, we replace nulls with the median, a more robust measure against outliers compared to the mean."
   ]
  },
  {
   "cell_type": "code",
   "execution_count": 12,
   "id": "f58accc0",
   "metadata": {},
   "outputs": [],
   "source": [
    "#Defining the median\n",
    "median_budget=movie_df['budget'].median()\n",
    "median_gross=movie_df['gross'].median()"
   ]
  },
  {
   "cell_type": "code",
   "execution_count": 13,
   "id": "eceb484b",
   "metadata": {},
   "outputs": [],
   "source": [
    "# Replace any budget and gross value that is null for the median value\n",
    "movie_df['budget'] = movie_df['budget'].apply(lambda x: median_budget if pd.isna(x)  else x)\n",
    "movie_df['gross'] = movie_df['gross'].apply(lambda x: median_gross if pd.isna(x)  else x)"
   ]
  },
  {
   "cell_type": "code",
   "execution_count": 14,
   "id": "33fefb07",
   "metadata": {},
   "outputs": [
    {
     "name": "stdout",
     "output_type": "stream",
     "text": [
      "          Missing Count  Missing Percentage\n",
      "name                  0               0.000\n",
      "rating               77               1.000\n",
      "genre                 0               0.000\n",
      "year                  0               0.000\n",
      "released              2               0.030\n",
      "score                 3               0.040\n",
      "votes                 3               0.040\n",
      "director              0               0.000\n",
      "writer                3               0.040\n",
      "star                  1               0.010\n",
      "country               3               0.040\n",
      "budget                0               0.000\n",
      "gross                 0               0.000\n",
      "company              17               0.220\n",
      "runtime               4               0.050\n"
     ]
    }
   ],
   "source": [
    "# Count of missing values\n",
    "missing_count = movie_df.isnull().sum()\n",
    "\n",
    "# Percentage of missing values\n",
    "missing_percentage = ((movie_df.isnull() | movie_df.isna()).sum() * 100 / movie_df.index.size).round(2)\n",
    "\n",
    "# Combine the results into a new DataFrame\n",
    "missing_info_df = pd.concat([missing_count, missing_percentage], axis=1, keys=['Missing Count', 'Missing Percentage'])\n",
    "\n",
    "# Display the combined DataFrame\n",
    "print(missing_info_df)"
   ]
  },
  {
   "cell_type": "code",
   "execution_count": 15,
   "id": "e6cd33b5",
   "metadata": {},
   "outputs": [
    {
     "data": {
      "text/plain": [
       "1.2258737610850288"
      ]
     },
     "execution_count": 15,
     "metadata": {},
     "output_type": "execute_result"
    }
   ],
   "source": [
    "#Checking out the percentage of missing values out of the total dataset\n",
    "missing_data = movie_df[movie_df.isna().sum(axis=1)>0]\n",
    "len(missing_data)/len(movie_df)*100"
   ]
  },
  {
   "cell_type": "markdown",
   "id": "79f83208",
   "metadata": {},
   "source": [
    "&nbsp; &nbsp; &nbsp; &nbsp; &nbsp; &nbsp; This thorough cleaning process significantly reduces the null value percentage in the dataset to a more manageable 1.2%. To further refine our dataset, we drop the remaining rows with null values, considering their minimal influence on the analysis.  "
   ]
  },
  {
   "cell_type": "code",
   "execution_count": 16,
   "id": "db8dae28",
   "metadata": {},
   "outputs": [
    {
     "data": {
      "text/html": [
       "<div>\n",
       "<style scoped>\n",
       "    .dataframe tbody tr th:only-of-type {\n",
       "        vertical-align: middle;\n",
       "    }\n",
       "\n",
       "    .dataframe tbody tr th {\n",
       "        vertical-align: top;\n",
       "    }\n",
       "\n",
       "    .dataframe thead th {\n",
       "        text-align: right;\n",
       "    }\n",
       "</style>\n",
       "<table border=\"1\" class=\"dataframe\">\n",
       "  <thead>\n",
       "    <tr style=\"text-align: right;\">\n",
       "      <th></th>\n",
       "      <th>name</th>\n",
       "      <th>rating</th>\n",
       "      <th>genre</th>\n",
       "      <th>year</th>\n",
       "      <th>released</th>\n",
       "      <th>score</th>\n",
       "      <th>votes</th>\n",
       "      <th>director</th>\n",
       "      <th>writer</th>\n",
       "      <th>star</th>\n",
       "      <th>country</th>\n",
       "      <th>budget</th>\n",
       "      <th>gross</th>\n",
       "      <th>company</th>\n",
       "      <th>runtime</th>\n",
       "    </tr>\n",
       "  </thead>\n",
       "  <tbody>\n",
       "    <tr>\n",
       "      <th>0</th>\n",
       "      <td>The Shining</td>\n",
       "      <td>R</td>\n",
       "      <td>Drama</td>\n",
       "      <td>1980</td>\n",
       "      <td>June 13, 1980 (United States)</td>\n",
       "      <td>8.400</td>\n",
       "      <td>927000.000</td>\n",
       "      <td>Stanley Kubrick</td>\n",
       "      <td>Stephen King</td>\n",
       "      <td>Jack Nicholson</td>\n",
       "      <td>United Kingdom</td>\n",
       "      <td>19000000.000</td>\n",
       "      <td>46998772.000</td>\n",
       "      <td>Warner Bros.</td>\n",
       "      <td>146.000</td>\n",
       "    </tr>\n",
       "    <tr>\n",
       "      <th>1</th>\n",
       "      <td>The Blue Lagoon</td>\n",
       "      <td>R</td>\n",
       "      <td>Adventure</td>\n",
       "      <td>1980</td>\n",
       "      <td>July 2, 1980 (United States)</td>\n",
       "      <td>5.800</td>\n",
       "      <td>65000.000</td>\n",
       "      <td>Randal Kleiser</td>\n",
       "      <td>Henry De Vere Stacpoole</td>\n",
       "      <td>Brooke Shields</td>\n",
       "      <td>United States</td>\n",
       "      <td>4500000.000</td>\n",
       "      <td>58853106.000</td>\n",
       "      <td>Columbia Pictures</td>\n",
       "      <td>104.000</td>\n",
       "    </tr>\n",
       "    <tr>\n",
       "      <th>2</th>\n",
       "      <td>Star Wars: Episode V - The Empire Strikes Back</td>\n",
       "      <td>PG</td>\n",
       "      <td>Action</td>\n",
       "      <td>1980</td>\n",
       "      <td>June 20, 1980 (United States)</td>\n",
       "      <td>8.700</td>\n",
       "      <td>1200000.000</td>\n",
       "      <td>Irvin Kershner</td>\n",
       "      <td>Leigh Brackett</td>\n",
       "      <td>Mark Hamill</td>\n",
       "      <td>United States</td>\n",
       "      <td>18000000.000</td>\n",
       "      <td>538375067.000</td>\n",
       "      <td>Lucasfilm</td>\n",
       "      <td>124.000</td>\n",
       "    </tr>\n",
       "    <tr>\n",
       "      <th>3</th>\n",
       "      <td>Airplane!</td>\n",
       "      <td>PG</td>\n",
       "      <td>Comedy</td>\n",
       "      <td>1980</td>\n",
       "      <td>July 2, 1980 (United States)</td>\n",
       "      <td>7.700</td>\n",
       "      <td>221000.000</td>\n",
       "      <td>Jim Abrahams</td>\n",
       "      <td>Jim Abrahams</td>\n",
       "      <td>Robert Hays</td>\n",
       "      <td>United States</td>\n",
       "      <td>3500000.000</td>\n",
       "      <td>83453539.000</td>\n",
       "      <td>Paramount Pictures</td>\n",
       "      <td>88.000</td>\n",
       "    </tr>\n",
       "    <tr>\n",
       "      <th>4</th>\n",
       "      <td>Caddyshack</td>\n",
       "      <td>R</td>\n",
       "      <td>Comedy</td>\n",
       "      <td>1980</td>\n",
       "      <td>July 25, 1980 (United States)</td>\n",
       "      <td>7.300</td>\n",
       "      <td>108000.000</td>\n",
       "      <td>Harold Ramis</td>\n",
       "      <td>Brian Doyle-Murray</td>\n",
       "      <td>Chevy Chase</td>\n",
       "      <td>United States</td>\n",
       "      <td>6000000.000</td>\n",
       "      <td>39846344.000</td>\n",
       "      <td>Orion Pictures</td>\n",
       "      <td>98.000</td>\n",
       "    </tr>\n",
       "  </tbody>\n",
       "</table>\n",
       "</div>"
      ],
      "text/plain": [
       "                                             name rating      genre  year  \\\n",
       "0                                     The Shining      R      Drama  1980   \n",
       "1                                 The Blue Lagoon      R  Adventure  1980   \n",
       "2  Star Wars: Episode V - The Empire Strikes Back     PG     Action  1980   \n",
       "3                                       Airplane!     PG     Comedy  1980   \n",
       "4                                      Caddyshack      R     Comedy  1980   \n",
       "\n",
       "                        released  score       votes         director  \\\n",
       "0  June 13, 1980 (United States)  8.400  927000.000  Stanley Kubrick   \n",
       "1   July 2, 1980 (United States)  5.800   65000.000   Randal Kleiser   \n",
       "2  June 20, 1980 (United States)  8.700 1200000.000   Irvin Kershner   \n",
       "3   July 2, 1980 (United States)  7.700  221000.000     Jim Abrahams   \n",
       "4  July 25, 1980 (United States)  7.300  108000.000     Harold Ramis   \n",
       "\n",
       "                    writer            star         country       budget  \\\n",
       "0             Stephen King  Jack Nicholson  United Kingdom 19000000.000   \n",
       "1  Henry De Vere Stacpoole  Brooke Shields   United States  4500000.000   \n",
       "2           Leigh Brackett     Mark Hamill   United States 18000000.000   \n",
       "3             Jim Abrahams     Robert Hays   United States  3500000.000   \n",
       "4       Brian Doyle-Murray     Chevy Chase   United States  6000000.000   \n",
       "\n",
       "          gross             company  runtime  \n",
       "0  46998772.000        Warner Bros.  146.000  \n",
       "1  58853106.000   Columbia Pictures  104.000  \n",
       "2 538375067.000           Lucasfilm  124.000  \n",
       "3  83453539.000  Paramount Pictures   88.000  \n",
       "4  39846344.000      Orion Pictures   98.000  "
      ]
     },
     "execution_count": 16,
     "metadata": {},
     "output_type": "execute_result"
    }
   ],
   "source": [
    "#Dropping nulls\n",
    "movie_no_nulls = movie_df.dropna()\n",
    "movie_no_nulls.head()"
   ]
  },
  {
   "cell_type": "code",
   "execution_count": 17,
   "id": "b06c0db9",
   "metadata": {},
   "outputs": [
    {
     "data": {
      "text/plain": [
       "name        0\n",
       "rating      0\n",
       "genre       0\n",
       "year        0\n",
       "released    0\n",
       "score       0\n",
       "votes       0\n",
       "director    0\n",
       "writer      0\n",
       "star        0\n",
       "country     0\n",
       "budget      0\n",
       "gross       0\n",
       "company     0\n",
       "runtime     0\n",
       "dtype: int64"
      ]
     },
     "execution_count": 17,
     "metadata": {},
     "output_type": "execute_result"
    }
   ],
   "source": [
    "#Checking for null values\n",
    "movie_no_nulls.isna().sum()"
   ]
  },
  {
   "cell_type": "markdown",
   "id": "833984f7",
   "metadata": {},
   "source": [
    "&nbsp; &nbsp; &nbsp; &nbsp; &nbsp; &nbsp; The dataframe created to drop the nulls is correct, so now the original dataframe will be replaced by that one."
   ]
  },
  {
   "cell_type": "code",
   "execution_count": 18,
   "id": "f3478454",
   "metadata": {},
   "outputs": [],
   "source": [
    "# Now it looks great, let's substitute the prior df by this\n",
    "movie_df = movie_no_nulls"
   ]
  },
  {
   "cell_type": "code",
   "execution_count": 19,
   "id": "248eb2ef",
   "metadata": {},
   "outputs": [
    {
     "data": {
      "text/plain": [
       "(7574, 15)"
      ]
     },
     "execution_count": 19,
     "metadata": {},
     "output_type": "execute_result"
    }
   ],
   "source": [
    "#Check the number of rows and  number of columns \n",
    "movie_df.shape"
   ]
  },
  {
   "cell_type": "markdown",
   "id": "8a0191dd",
   "metadata": {},
   "source": [
    "&nbsp; &nbsp; &nbsp; &nbsp; &nbsp; &nbsp; There are 94 less rows than the initial dataset. Now the data is clean from missing values."
   ]
  },
  {
   "cell_type": "markdown",
   "id": "9a169da2",
   "metadata": {},
   "source": [
    "------------------------------------------------------------------------------------------------------------------------------------------------------------------------------"
   ]
  },
  {
   "cell_type": "markdown",
   "id": "f2106183",
   "metadata": {},
   "source": [
    "<div style=\"font-family:Georgia\">    \n",
    "<h4> 4.3 Type Conversion:</h4>\n",
    "</div>"
   ]
  },
  {
   "cell_type": "markdown",
   "id": "027e26a5",
   "metadata": {},
   "source": [
    "&nbsp; &nbsp; &nbsp; &nbsp; &nbsp; &nbsp; Ensuring data accuracy, we then focus on data type conversion, a critical step for precised analysis. This thorough cleaning and preparation set the foundation for a reliable and insightful analysis, demonstrating the importance of rigorous data handling in research.\n",
    "</div>"
   ]
  },
  {
   "cell_type": "code",
   "execution_count": 20,
   "id": "af14c73c",
   "metadata": {},
   "outputs": [
    {
     "name": "stdout",
     "output_type": "stream",
     "text": [
      "<class 'pandas.core.frame.DataFrame'>\n",
      "Index: 7574 entries, 0 to 7659\n",
      "Data columns (total 15 columns):\n",
      " #   Column    Non-Null Count  Dtype  \n",
      "---  ------    --------------  -----  \n",
      " 0   name      7574 non-null   object \n",
      " 1   rating    7574 non-null   object \n",
      " 2   genre     7574 non-null   object \n",
      " 3   year      7574 non-null   int64  \n",
      " 4   released  7574 non-null   object \n",
      " 5   score     7574 non-null   float64\n",
      " 6   votes     7574 non-null   float64\n",
      " 7   director  7574 non-null   object \n",
      " 8   writer    7574 non-null   object \n",
      " 9   star      7574 non-null   object \n",
      " 10  country   7574 non-null   object \n",
      " 11  budget    7574 non-null   float64\n",
      " 12  gross     7574 non-null   float64\n",
      " 13  company   7574 non-null   object \n",
      " 14  runtime   7574 non-null   float64\n",
      "dtypes: float64(5), int64(1), object(9)\n",
      "memory usage: 946.8+ KB\n"
     ]
    }
   ],
   "source": [
    "#Displaying what type of dtype is each column\n",
    "movie_df.info()"
   ]
  },
  {
   "cell_type": "markdown",
   "id": "fe2238de",
   "metadata": {},
   "source": [
    "&nbsp; &nbsp; &nbsp; &nbsp; &nbsp; &nbsp; All `float64` will be changed for `int64` with the exception of `score` which has decimal values. For the `object` type columns they will be change to `category`.\n",
    "</div>"
   ]
  },
  {
   "cell_type": "code",
   "execution_count": 21,
   "id": "34373851",
   "metadata": {},
   "outputs": [],
   "source": [
    "#Changing the dataype of the 'object' columns\n",
    "cat_cols=['name', 'rating','genre','released', 'director', 'writer', 'star', 'country', 'company']\n",
    "for col in cat_cols: \n",
    "    movie_df[col]=movie_df[col].astype('category')"
   ]
  },
  {
   "cell_type": "code",
   "execution_count": 22,
   "id": "c3ade3a2",
   "metadata": {},
   "outputs": [],
   "source": [
    "#Changing the dataype of the 'object' columns\n",
    "cat_cols2=['year', 'votes','budget','gross', 'runtime']\n",
    "for col in cat_cols2: \n",
    "    movie_df[col]=movie_df[col].astype('int64')"
   ]
  },
  {
   "cell_type": "code",
   "execution_count": 23,
   "id": "668b37fd",
   "metadata": {},
   "outputs": [
    {
     "name": "stdout",
     "output_type": "stream",
     "text": [
      "<class 'pandas.core.frame.DataFrame'>\n",
      "Index: 7574 entries, 0 to 7659\n",
      "Data columns (total 15 columns):\n",
      " #   Column    Non-Null Count  Dtype   \n",
      "---  ------    --------------  -----   \n",
      " 0   name      7574 non-null   category\n",
      " 1   rating    7574 non-null   category\n",
      " 2   genre     7574 non-null   category\n",
      " 3   year      7574 non-null   int64   \n",
      " 4   released  7574 non-null   category\n",
      " 5   score     7574 non-null   float64 \n",
      " 6   votes     7574 non-null   int64   \n",
      " 7   director  7574 non-null   category\n",
      " 8   writer    7574 non-null   category\n",
      " 9   star      7574 non-null   category\n",
      " 10  country   7574 non-null   category\n",
      " 11  budget    7574 non-null   int64   \n",
      " 12  gross     7574 non-null   int64   \n",
      " 13  company   7574 non-null   category\n",
      " 14  runtime   7574 non-null   int64   \n",
      "dtypes: category(9), float64(1), int64(5)\n",
      "memory usage: 1.4 MB\n"
     ]
    }
   ],
   "source": [
    "#Displaying what type of dtype is each column\n",
    "movie_df.info()"
   ]
  },
  {
   "cell_type": "markdown",
   "id": "f21daae8",
   "metadata": {},
   "source": [
    "&nbsp; &nbsp; &nbsp; &nbsp; &nbsp; &nbsp; After cleaning and type converting the columns, the analysis can begin."
   ]
  },
  {
   "cell_type": "markdown",
   "id": "b7a711eb",
   "metadata": {},
   "source": [
    "------------------------------------------------------------------------------------------------------------------------------------------------------------------------------"
   ]
  },
  {
   "cell_type": "code",
   "execution_count": 24,
   "id": "83112a77",
   "metadata": {},
   "outputs": [
    {
     "data": {
      "text/html": [
       "<div>\n",
       "<style scoped>\n",
       "    .dataframe tbody tr th:only-of-type {\n",
       "        vertical-align: middle;\n",
       "    }\n",
       "\n",
       "    .dataframe tbody tr th {\n",
       "        vertical-align: top;\n",
       "    }\n",
       "\n",
       "    .dataframe thead th {\n",
       "        text-align: right;\n",
       "    }\n",
       "</style>\n",
       "<table border=\"1\" class=\"dataframe\">\n",
       "  <thead>\n",
       "    <tr style=\"text-align: right;\">\n",
       "      <th></th>\n",
       "      <th>year</th>\n",
       "      <th>score</th>\n",
       "      <th>votes</th>\n",
       "      <th>budget</th>\n",
       "      <th>gross</th>\n",
       "      <th>runtime</th>\n",
       "    </tr>\n",
       "  </thead>\n",
       "  <tbody>\n",
       "    <tr>\n",
       "      <th>count</th>\n",
       "      <td>7574.000</td>\n",
       "      <td>7574.000</td>\n",
       "      <td>7574.000</td>\n",
       "      <td>7574.000</td>\n",
       "      <td>7574.000</td>\n",
       "      <td>7574.000</td>\n",
       "    </tr>\n",
       "    <tr>\n",
       "      <th>mean</th>\n",
       "      <td>2000.377</td>\n",
       "      <td>6.389</td>\n",
       "      <td>88940.742</td>\n",
       "      <td>31495503.581</td>\n",
       "      <td>77736142.615</td>\n",
       "      <td>107.291</td>\n",
       "    </tr>\n",
       "    <tr>\n",
       "      <th>std</th>\n",
       "      <td>11.109</td>\n",
       "      <td>0.968</td>\n",
       "      <td>164041.876</td>\n",
       "      <td>35922362.097</td>\n",
       "      <td>164648795.806</td>\n",
       "      <td>18.585</td>\n",
       "    </tr>\n",
       "    <tr>\n",
       "      <th>min</th>\n",
       "      <td>1980.000</td>\n",
       "      <td>1.900</td>\n",
       "      <td>35.000</td>\n",
       "      <td>3000.000</td>\n",
       "      <td>309.000</td>\n",
       "      <td>63.000</td>\n",
       "    </tr>\n",
       "    <tr>\n",
       "      <th>25%</th>\n",
       "      <td>1991.000</td>\n",
       "      <td>5.800</td>\n",
       "      <td>9400.000</td>\n",
       "      <td>14000000.000</td>\n",
       "      <td>4843455.250</td>\n",
       "      <td>95.000</td>\n",
       "    </tr>\n",
       "    <tr>\n",
       "      <th>50%</th>\n",
       "      <td>2000.000</td>\n",
       "      <td>6.500</td>\n",
       "      <td>33000.000</td>\n",
       "      <td>20500000.000</td>\n",
       "      <td>20205757.000</td>\n",
       "      <td>104.000</td>\n",
       "    </tr>\n",
       "    <tr>\n",
       "      <th>75%</th>\n",
       "      <td>2010.000</td>\n",
       "      <td>7.100</td>\n",
       "      <td>94000.000</td>\n",
       "      <td>32000000.000</td>\n",
       "      <td>74028959.000</td>\n",
       "      <td>116.000</td>\n",
       "    </tr>\n",
       "    <tr>\n",
       "      <th>max</th>\n",
       "      <td>2020.000</td>\n",
       "      <td>9.300</td>\n",
       "      <td>2400000.000</td>\n",
       "      <td>356000000.000</td>\n",
       "      <td>2847246203.000</td>\n",
       "      <td>366.000</td>\n",
       "    </tr>\n",
       "  </tbody>\n",
       "</table>\n",
       "</div>"
      ],
      "text/plain": [
       "          year    score       votes        budget          gross  runtime\n",
       "count 7574.000 7574.000    7574.000      7574.000       7574.000 7574.000\n",
       "mean  2000.377    6.389   88940.742  31495503.581   77736142.615  107.291\n",
       "std     11.109    0.968  164041.876  35922362.097  164648795.806   18.585\n",
       "min   1980.000    1.900      35.000      3000.000        309.000   63.000\n",
       "25%   1991.000    5.800    9400.000  14000000.000    4843455.250   95.000\n",
       "50%   2000.000    6.500   33000.000  20500000.000   20205757.000  104.000\n",
       "75%   2010.000    7.100   94000.000  32000000.000   74028959.000  116.000\n",
       "max   2020.000    9.300 2400000.000 356000000.000 2847246203.000  366.000"
      ]
     },
     "execution_count": 24,
     "metadata": {},
     "output_type": "execute_result"
    }
   ],
   "source": [
    "#  Now when using describe, the numbers will be displayed without scientific notation \n",
    "pd.set_option('display.float_format', lambda x: '%.3f' % x)\n",
    "\n",
    "# Get the statistical summary of numeric columns of DataFrame: movie_df\n",
    "movie_df.describe()"
   ]
  },
  {
   "cell_type": "markdown",
   "id": "12e82627",
   "metadata": {},
   "source": [
    "There are a few insights we can take out of this output:\n",
    "\n",
    "- The values of the 25% and 75% percentile of `votes` increase in 300 and 1000 respectively. \n",
    "- Now the count of budget is the same as the other columns.\n",
    "- The 25% and 75% percentiles also varies for the `budget`and `gross` columns.\n",
    "- The minimum `runtime` value increases."
   ]
  },
  {
   "cell_type": "markdown",
   "id": "062633c8",
   "metadata": {},
   "source": [
    "<div style=\"font-family:Georgia;\">\n",
    "    <h3>5. Data Analysis:</h3>\n",
    "</div>"
   ]
  },
  {
   "cell_type": "markdown",
   "id": "43c3cc73",
   "metadata": {},
   "source": [
    "&nbsp; &nbsp; &nbsp; &nbsp; &nbsp; &nbsp; Through Data analysis, the veracity of the hypothesis is going to be determined.\n",
    "For this step to be perfomed, there were some steps that had to be done before, including data cleaning and preparation.\n",
    "<br>\n",
    "\n",
    "&nbsp; &nbsp; &nbsp; &nbsp; &nbsp; &nbsp; Testing hypothesis would allow us to validate assumptions about the data, ensuring that the patterns/trends are not just random.  Most importantly, it will reduce biases about the data.\n",
    "<br>\n",
    "\n",
    "&nbsp; &nbsp; &nbsp; &nbsp; &nbsp; &nbsp; **_Hypothesis:_ Does Budget affect Gross throughout Genres and is it the same for a Domestic or International Film?**\n",
    "<br>\n",
    "\n",
    "&nbsp; &nbsp; &nbsp; &nbsp; &nbsp; &nbsp; The analysis will be divided into four parts, first a brief analysis of `budget` and `gross` will be performed to figure out if there is a relationship between them. Following that, an analysis on `genre` will be performed to examine if a certain type of genre has a stronger effect among those variables. Then an analysis if being a `Foreign` or `Hollywood` film have any effect at all and finally, how does `budget` affects `gross` among genres depending on the movie type.\n",
    "<br>"
   ]
  },
  {
   "cell_type": "markdown",
   "id": "c6cd82fe",
   "metadata": {},
   "source": [
    "------------------------------------------------------------------------------------------------------------------------------------------------------------------------------"
   ]
  },
  {
   "cell_type": "markdown",
   "id": "fab4c89a",
   "metadata": {},
   "source": [
    "<div style=\"font-family:Georgia;\">\n",
    "    <h4>5.1 Budget vs Gross </h4>\n",
    "</div>"
   ]
  },
  {
   "cell_type": "markdown",
   "id": "37efb723",
   "metadata": {},
   "source": [
    "&nbsp; &nbsp; &nbsp; &nbsp; &nbsp; &nbsp; In this initial part of the analysis a relationship betwwen `budget` and `gross` will be determined."
   ]
  },
  {
   "cell_type": "code",
   "execution_count": 25,
   "id": "12188592",
   "metadata": {},
   "outputs": [
    {
     "data": {
      "image/png": "[encoded data removed]",
      "text/plain": [
       "<Figure size 640x480 with 2 Axes>"
      ]
     },
     "metadata": {},
     "output_type": "display_data"
    }
   ],
   "source": [
    "#Plotting budgets and gross\n",
    "fig, ax1 = plt.subplots()\n",
    "\n",
    "ax1.plot(movie_df['budget'], label='Budget', color='blue')\n",
    "ax1.set_xlabel('Movies')\n",
    "ax1.set_ylabel('Budget', color='blue')\n",
    "ax1.tick_params('y', colors='blue')\n",
    "\n",
    "ax2 = ax1.twinx()\n",
    "ax2.plot(movie_df['gross'], label='Gross', color='green')\n",
    "ax2.set_ylabel('Gross', color='green')\n",
    "ax2.tick_params('y', colors='green')\n",
    "\n",
    "plt.title('Gross vs Budget')\n",
    "\n",
    "plt.show()"
   ]
  },
  {
   "cell_type": "markdown",
   "id": "35d69882",
   "metadata": {},
   "source": [
    "&nbsp; &nbsp; &nbsp; &nbsp; &nbsp; &nbsp; An initial relationship can be seen as the spikes on the `budget` goes hand in hand with the spkies on `gross`. To further analyze this a correlation matrix is performed."
   ]
  },
  {
   "cell_type": "code",
   "execution_count": 26,
   "id": "0d48d4ef",
   "metadata": {},
   "outputs": [
    {
     "data": {
      "image/png": "[encoded data removed]",
      "text/plain": [
       "<Figure size 1500x1500 with 2 Axes>"
      ]
     },
     "metadata": {},
     "output_type": "display_data"
    }
   ],
   "source": [
    "#Correlation Matrix\n",
    "plt.figure(figsize=(15,15))\n",
    "sns.heatmap(movie_df.select_dtypes(np.number).corr(),annot=True, cmap='coolwarm');"
   ]
  },
  {
   "cell_type": "markdown",
   "id": "5660c06a",
   "metadata": {},
   "source": [
    "&nbsp; &nbsp; &nbsp; &nbsp; &nbsp; &nbsp; From the correlation matrix, there is an initial insight about the relationship of these variables, where a positive relationship of 0.75 is seen."
   ]
  },
  {
   "cell_type": "code",
   "execution_count": 27,
   "id": "b3fe0c41",
   "metadata": {},
   "outputs": [
    {
     "name": "stdout",
     "output_type": "stream",
     "text": [
      "Correlation between budget and gross: 0.7463731857601901\n"
     ]
    },
    {
     "data": {
      "image/png": "[encoded data removed]",
      "text/plain": [
       "<Figure size 640x480 with 1 Axes>"
      ]
     },
     "metadata": {},
     "output_type": "display_data"
    },
    {
     "name": "stdout",
     "output_type": "stream",
     "text": [
      "                            OLS Regression Results                            \n",
      "==============================================================================\n",
      "Dep. Variable:                  gross   R-squared:                       0.557\n",
      "Model:                            OLS   Adj. R-squared:                  0.557\n",
      "Method:                 Least Squares   F-statistic:                     9523.\n",
      "Date:                Mon, 04 Dec 2023   Prob (F-statistic):               0.00\n",
      "Time:                        18:47:55   Log-Likelihood:            -1.5096e+05\n",
      "No. Observations:                7574   AIC:                         3.019e+05\n",
      "Df Residuals:                    7572   BIC:                         3.019e+05\n",
      "Df Model:                           1                                         \n",
      "Covariance Type:            nonrobust                                         \n",
      "==============================================================================\n",
      "                 coef    std err          t      P>|t|      [0.025      0.975]\n",
      "------------------------------------------------------------------------------\n",
      "const      -3.001e+07   1.67e+06    -17.919      0.000   -3.33e+07   -2.67e+07\n",
      "budget         3.4210      0.035     97.588      0.000       3.352       3.490\n",
      "==============================================================================\n",
      "Omnibus:                     7076.775   Durbin-Watson:                   1.742\n",
      "Prob(Omnibus):                  0.000   Jarque-Bera (JB):           699159.697\n",
      "Skew:                           4.175   Prob(JB):                         0.00\n",
      "Kurtosis:                      49.322   Cond. No.                     6.35e+07\n",
      "==============================================================================\n",
      "\n",
      "Notes:\n",
      "[1] Standard Errors assume that the covariance matrix of the errors is correctly specified.\n",
      "[2] The condition number is large, 6.35e+07. This might indicate that there are\n",
      "strong multicollinearity or other numerical problems.\n"
     ]
    }
   ],
   "source": [
    "# Calculate the correlation between budget and gross\n",
    "budget_gross_corr = movie_df['budget'].corr(movie_df['gross'])\n",
    "print(f\"Correlation between budget and gross: {budget_gross_corr}\")\n",
    "\n",
    "# Create a scatter plot showing the relationship between budget and gross\n",
    "plt.scatter(movie_df['budget'], movie_df['gross'])\n",
    "plt.xlabel('Budget')\n",
    "plt.ylabel('Gross Earnings')\n",
    "plt.title('Relationship between Budget and Gross Earnings')\n",
    "plt.show()\n",
    "\n",
    "# Perform a linear regression analysis\n",
    "# Add a constant to the independent variable\n",
    "X = sm.add_constant(movie_df['budget'])\n",
    "y = movie_df['gross']\n",
    "\n",
    "# Create the model\n",
    "model = sm.OLS(y, X)\n",
    "\n",
    "# Fit the model\n",
    "results = model.fit()\n",
    "\n",
    "# Print the summary of the regression\n",
    "print(results.summary())"
   ]
  },
  {
   "cell_type": "markdown",
   "id": "6a6b97e8",
   "metadata": {},
   "source": [
    "&nbsp; &nbsp; &nbsp; &nbsp; &nbsp; &nbsp; Previously, an identification of a positive correlation between `budget` and `gross` was established. Through regression analysis, we aimed to ascertain if the `gross` was influenced by `budget`. The p-value was found to be less than 0.05 and the adjusted R square was 0.55 meaning that only 55% of the `gross` is explain by `budget`, there seem to be other factors that affect the dependant variable but that is not part of the hypothesis being tested. This indicated that the `gross` was explained by the previously mentioned variable. Meaning that an increment of US$ 1 dollar in `budget` will result in an increment of 3.42 in `gross`."
   ]
  },
  {
   "cell_type": "markdown",
   "id": "a4d4a04e",
   "metadata": {},
   "source": [
    "------------------------------------------------------------------------------------------------------------------------------------------------------------------------------"
   ]
  },
  {
   "cell_type": "markdown",
   "id": "87f3bde1",
   "metadata": {},
   "source": [
    "<div style=\"font-family:Georgia;\">\n",
    "    <h4>5.1 Genres </h4>\n",
    "</div>"
   ]
  },
  {
   "cell_type": "markdown",
   "id": "96ea9d18",
   "metadata": {},
   "source": [
    "&nbsp; &nbsp; &nbsp; &nbsp; &nbsp; &nbsp; Following up on the analysis, figuring out the relationship among genres is important to see if the `budget` and `gross` relationship mantains. "
   ]
  },
  {
   "cell_type": "code",
   "execution_count": 28,
   "id": "891a11e0",
   "metadata": {},
   "outputs": [
    {
     "data": {
      "text/plain": [
       "['Drama', 'Adventure', 'Action', 'Comedy', 'Horror', ..., 'Western', 'Thriller', 'Mystery', 'Sport', 'Musical']\n",
       "Length: 18\n",
       "Categories (18, object): ['Action', 'Adventure', 'Animation', 'Biography', ..., 'Sci-Fi', 'Sport', 'Thriller', 'Western']"
      ]
     },
     "execution_count": 28,
     "metadata": {},
     "output_type": "execute_result"
    }
   ],
   "source": [
    "#Checking unique values\n",
    "movie_df['genre'].unique()"
   ]
  },
  {
   "cell_type": "markdown",
   "id": "e2e82042",
   "metadata": {},
   "source": [
    "&nbsp; &nbsp; &nbsp; &nbsp; &nbsp; &nbsp; There are 18 types of `genre` but not all of them have the same number of entries. "
   ]
  },
  {
   "cell_type": "code",
   "execution_count": 29,
   "id": "5510d005",
   "metadata": {},
   "outputs": [
    {
     "data": {
      "text/plain": [
       "genre\n",
       "Comedy       2230\n",
       "Action       1695\n",
       "Drama        1476\n",
       "Crime         544\n",
       "Biography     439\n",
       "Adventure     426\n",
       "Animation     334\n",
       "Horror        318\n",
       "Fantasy        43\n",
       "Mystery        20\n",
       "Thriller       16\n",
       "Family         10\n",
       "Sci-Fi          9\n",
       "Romance         8\n",
       "Western         3\n",
       "Music           1\n",
       "Musical         1\n",
       "Sport           1\n",
       "Name: name, dtype: int64"
      ]
     },
     "execution_count": 29,
     "metadata": {},
     "output_type": "execute_result"
    }
   ],
   "source": [
    "# Copying the needed columns: genre and name\n",
    "genre_name = movie_df[['genre', 'name']].copy()\n",
    "\n",
    "#Total inputs per genre\n",
    "genre_count = genre_name['name'].groupby(genre_name['genre']).count().sort_values(ascending=False).copy()\n",
    "\n",
    "#Display\n",
    "genre_count"
   ]
  },
  {
   "cell_type": "markdown",
   "id": "71238690",
   "metadata": {},
   "source": [
    "&nbsp; &nbsp; &nbsp; &nbsp; &nbsp; &nbsp; For a strong analysis, only the genres with over 500 entries will be taken into consideration as having a small sample may not result in an accurate result."
   ]
  },
  {
   "cell_type": "code",
   "execution_count": 30,
   "id": "d659f3e9",
   "metadata": {},
   "outputs": [
    {
     "data": {
      "image/png": "[encoded data removed]",
      "text/plain": [
       "<Figure size 1500x1000 with 1 Axes>"
      ]
     },
     "metadata": {},
     "output_type": "display_data"
    }
   ],
   "source": [
    "# Filter genres with over 500 entries\n",
    "genre_counts = movie_df['genre'].value_counts()\n",
    "selected_genres = genre_counts[genre_counts > 500].index\n",
    "filtered_movie_df = movie_df[movie_df['genre'].isin(selected_genres)]\n",
    "\n",
    "# Calculate the mean budget and gross for each genre for visualization\n",
    "mean_budget_by_genre = filtered_movie_df.groupby('genre')['budget'].mean()\n",
    "mean_gross_by_genre = filtered_movie_df.groupby('genre')['gross'].mean()\n",
    "\n",
    "# Combine the data into a single DataFrame for plotting\n",
    "combined_data = pd.DataFrame({\n",
    "    'Average Budget': mean_budget_by_genre,\n",
    "    'Average Gross': mean_gross_by_genre\n",
    "}).reset_index()\n",
    "\n",
    "# Melt the DataFrame for seaborn\n",
    "melted_data = combined_data.melt(id_vars='genre', var_name='Type', value_name='Amount')\n",
    "\n",
    "# Create a bar plot with specified order for y-axis\n",
    "plt.figure(figsize=(15, 10))\n",
    "sns.barplot(x='Amount', y='genre', hue='Type', data=melted_data, palette='Set2', order=selected_genres)\n",
    "plt.xlabel('Amount in Millions')\n",
    "plt.ylabel('Movie Genre')\n",
    "plt.title('Comparison of Average Budget and Gross Earnings by Movie Genre')\n",
    "plt.tight_layout()\n",
    "\n",
    "# Show the plot\n",
    "plt.show()"
   ]
  },
  {
   "cell_type": "markdown",
   "id": "a7557461",
   "metadata": {},
   "source": [
    "&nbsp; &nbsp; &nbsp; &nbsp; &nbsp; &nbsp; There seems to be similarity across the budgets of `Comedy`, `Drama` and `Crime`, the gross varies a little but as an overall is similar. `Action` is the genre with the highest average gross and budget."
   ]
  },
  {
   "cell_type": "code",
   "execution_count": 31,
   "id": "f01a842a",
   "metadata": {},
   "outputs": [
    {
     "name": "stdout",
     "output_type": "stream",
     "text": [
      "Genre: Comedy\n",
      "                            OLS Regression Results                            \n",
      "==============================================================================\n",
      "Dep. Variable:                  gross   R-squared:                       0.274\n",
      "Model:                            OLS   Adj. R-squared:                  0.274\n",
      "Method:                 Least Squares   F-statistic:                     841.4\n",
      "Date:                Mon, 04 Dec 2023   Prob (F-statistic):          3.19e-157\n",
      "Time:                        18:47:55   Log-Likelihood:                -43104.\n",
      "No. Observations:                2230   AIC:                         8.621e+04\n",
      "Df Residuals:                    2228   BIC:                         8.622e+04\n",
      "Df Model:                           1                                         \n",
      "Covariance Type:            nonrobust                                         \n",
      "==============================================================================\n",
      "                 coef    std err          t      P>|t|      [0.025      0.975]\n",
      "------------------------------------------------------------------------------\n",
      "const      -3.545e+06   2.07e+06     -1.709      0.088   -7.61e+06    5.23e+05\n",
      "budget         2.1677      0.075     29.007      0.000       2.021       2.314\n",
      "==============================================================================\n",
      "Omnibus:                     1449.648   Durbin-Watson:                   1.488\n",
      "Prob(Omnibus):                  0.000   Jarque-Bera (JB):            20651.242\n",
      "Skew:                           2.883   Prob(JB):                         0.00\n",
      "Kurtosis:                      16.748   Cond. No.                     4.53e+07\n",
      "==============================================================================\n",
      "\n",
      "Notes:\n",
      "[1] Standard Errors assume that the covariance matrix of the errors is correctly specified.\n",
      "[2] The condition number is large, 4.53e+07. This might indicate that there are\n",
      "strong multicollinearity or other numerical problems.\n",
      "Genre: Action\n",
      "                            OLS Regression Results                            \n",
      "==============================================================================\n",
      "Dep. Variable:                  gross   R-squared:                       0.596\n",
      "Model:                            OLS   Adj. R-squared:                  0.596\n",
      "Method:                 Least Squares   F-statistic:                     2495.\n",
      "Date:                Mon, 04 Dec 2023   Prob (F-statistic):               0.00\n",
      "Time:                        18:47:55   Log-Likelihood:                -34387.\n",
      "No. Observations:                1695   AIC:                         6.878e+04\n",
      "Df Residuals:                    1693   BIC:                         6.879e+04\n",
      "Df Model:                           1                                         \n",
      "Covariance Type:            nonrobust                                         \n",
      "==============================================================================\n",
      "                 coef    std err          t      P>|t|      [0.025      0.975]\n",
      "------------------------------------------------------------------------------\n",
      "const      -4.368e+07   5.34e+06     -8.176      0.000   -5.42e+07   -3.32e+07\n",
      "budget         3.5925      0.072     49.950      0.000       3.451       3.734\n",
      "==============================================================================\n",
      "Omnibus:                     1376.709   Durbin-Watson:                   1.704\n",
      "Prob(Omnibus):                  0.000   Jarque-Bera (JB):            71688.903\n",
      "Skew:                           3.395   Prob(JB):                         0.00\n",
      "Kurtosis:                      34.128   Cond. No.                     1.04e+08\n",
      "==============================================================================\n",
      "\n",
      "Notes:\n",
      "[1] Standard Errors assume that the covariance matrix of the errors is correctly specified.\n",
      "[2] The condition number is large, 1.04e+08. This might indicate that there are\n",
      "strong multicollinearity or other numerical problems.\n",
      "Genre: Drama\n",
      "                            OLS Regression Results                            \n",
      "==============================================================================\n",
      "Dep. Variable:                  gross   R-squared:                       0.289\n",
      "Model:                            OLS   Adj. R-squared:                  0.289\n",
      "Method:                 Least Squares   F-statistic:                     599.5\n",
      "Date:                Mon, 04 Dec 2023   Prob (F-statistic):          2.29e-111\n",
      "Time:                        18:47:55   Log-Likelihood:                -28954.\n",
      "No. Observations:                1476   AIC:                         5.791e+04\n",
      "Df Residuals:                    1474   BIC:                         5.792e+04\n",
      "Df Model:                           1                                         \n",
      "Covariance Type:            nonrobust                                         \n",
      "==============================================================================\n",
      "                 coef    std err          t      P>|t|      [0.025      0.975]\n",
      "------------------------------------------------------------------------------\n",
      "const      -2.383e+07    3.3e+06     -7.230      0.000   -3.03e+07   -1.74e+07\n",
      "budget         2.8386      0.116     24.484      0.000       2.611       3.066\n",
      "==============================================================================\n",
      "Omnibus:                     2103.126   Durbin-Watson:                   1.774\n",
      "Prob(Omnibus):                  0.000   Jarque-Bera (JB):          1097108.139\n",
      "Skew:                           7.848   Prob(JB):                         0.00\n",
      "Kurtosis:                     135.638   Cond. No.                     4.50e+07\n",
      "==============================================================================\n",
      "\n",
      "Notes:\n",
      "[1] Standard Errors assume that the covariance matrix of the errors is correctly specified.\n",
      "[2] The condition number is large, 4.5e+07. This might indicate that there are\n",
      "strong multicollinearity or other numerical problems.\n",
      "Genre: Crime\n",
      "                            OLS Regression Results                            \n",
      "==============================================================================\n",
      "Dep. Variable:                  gross   R-squared:                       0.328\n",
      "Model:                            OLS   Adj. R-squared:                  0.326\n",
      "Method:                 Least Squares   F-statistic:                     264.0\n",
      "Date:                Mon, 04 Dec 2023   Prob (F-statistic):           1.17e-48\n",
      "Time:                        18:47:55   Log-Likelihood:                -10542.\n",
      "No. Observations:                 544   AIC:                         2.109e+04\n",
      "Df Residuals:                     542   BIC:                         2.110e+04\n",
      "Df Model:                           1                                         \n",
      "Covariance Type:            nonrobust                                         \n",
      "==============================================================================\n",
      "                 coef    std err          t      P>|t|      [0.025      0.975]\n",
      "------------------------------------------------------------------------------\n",
      "const      -1.658e+07   4.39e+06     -3.780      0.000   -2.52e+07   -7.97e+06\n",
      "budget         2.5591      0.157     16.249      0.000       2.250       2.868\n",
      "==============================================================================\n",
      "Omnibus:                      759.615   Durbin-Watson:                   1.835\n",
      "Prob(Omnibus):                  0.000   Jarque-Bera (JB):           209256.564\n",
      "Skew:                           7.084   Prob(JB):                         0.00\n",
      "Kurtosis:                      98.032   Cond. No.                     4.51e+07\n",
      "==============================================================================\n",
      "\n",
      "Notes:\n",
      "[1] Standard Errors assume that the covariance matrix of the errors is correctly specified.\n",
      "[2] The condition number is large, 4.51e+07. This might indicate that there are\n",
      "strong multicollinearity or other numerical problems.\n"
     ]
    }
   ],
   "source": [
    "# Assuming 'movie_df' is your dataset\n",
    "selected_genres = ['Comedy', 'Action', 'Drama', 'Crime']\n",
    "filtered_movie_df = movie_df[movie_df['genre'].isin(selected_genres)]\n",
    "\n",
    "for genre in selected_genres:\n",
    "    genre_data = filtered_movie_df[filtered_movie_df['genre'] == genre]\n",
    "\n",
    "    # Check if there are enough data points for the regression\n",
    "    if len(genre_data) < 2:\n",
    "        print(f\"Not enough data points for genre: {genre}\")\n",
    "        continue\n",
    "\n",
    "    X = sm.add_constant(genre_data['budget'])\n",
    "    y = genre_data['gross']\n",
    "    \n",
    "    model = sm.OLS(y, X).fit()\n",
    "\n",
    "    print(f\"Genre: {genre}\")\n",
    "    print(model.summary())\n"
   ]
  },
  {
   "cell_type": "markdown",
   "id": "6ccb8773",
   "metadata": {},
   "source": [
    "From the regressions, we can determine:\n",
    "- _Comedy:_ The adjusted R square is 0.27 which is lower than expected, meaning that only 27% of `gross` is explain by `budget` . The p-value is less than 0.05 meaning that the `gross` was explained by the previously mentioned variable. The coefficient for budget is 2.16, meaning that for an increase of US 1 dollar in `budget` an increment of 2.16 will occur in `gross`.\n",
    "<br>\n",
    "- _Crime:_ The adjusted R square is 0.32 which is lower than expected. The p-value is less than 0.05 meaning that the `gross` was explained by the previously mentioned variable. The coefficient for budget is 2.55, meaning that for an increase of US 1 dollar in `budget` an increment of 2.55 will occur in `gross`.\n",
    "<br>\n",
    "- _Action:_ The adjusted R square is 0.596 which is almost the same value as the overall regresion. The p-value is less than 0.05 meaning that the `gross` was explained by the previously mentioned variable. The coefficient for budget is 3.59, meaning that for an increase of US 1 dollar in `budget` an increment of 3.59 will occur in `gross`.\n",
    "<br>\n",
    "- _Drama:_ The adjusted R square is 0.28 which is lower than expected. The p-value is less than 0.05 meaning that the `gross` was explained by the previously mentioned variable. The coefficient for budget is 2.83, meaning that for an increase of US 1 dollar in `budget` an increment of 2.83 will occur in `gross`.\n",
    "<br>\n",
    "Overall, the evidence of `budget`affecting `gross` exists among genres, the models explains a range of 28% and 60% of the `gross`. "
   ]
  },
  {
   "cell_type": "markdown",
   "id": "5ab3dde2",
   "metadata": {},
   "source": [
    "------------------------------------------------------------------------------------------------------------------------------------------------------------------------------"
   ]
  },
  {
   "cell_type": "markdown",
   "id": "a87ed1dd",
   "metadata": {},
   "source": [
    "<div style=\"font-family:Georgia;\">\n",
    "    <h4>5.3 Foreign vs Hollywood </h4>\n",
    "</div>"
   ]
  },
  {
   "cell_type": "markdown",
   "id": "72b92c20",
   "metadata": {},
   "source": [
    "&nbsp; &nbsp; &nbsp; &nbsp; &nbsp; &nbsp; The final step is to differientiate if the movie is from `Hollywood` or `Foreign`."
   ]
  },
  {
   "cell_type": "code",
   "execution_count": 32,
   "id": "51d1fae6",
   "metadata": {},
   "outputs": [
    {
     "data": {
      "text/plain": [
       "['United Kingdom', 'United States', 'South Africa', 'West Germany', 'Canada', ..., 'Iceland', 'Chile', 'Panama', 'Malta', 'Lebanon']\n",
       "Length: 59\n",
       "Categories (59, object): ['Argentina', 'Aruba', 'Australia', 'Austria', ..., 'United States', 'Vietnam', 'West Germany', 'Yugoslavia']"
      ]
     },
     "execution_count": 32,
     "metadata": {},
     "output_type": "execute_result"
    }
   ],
   "source": [
    "#Defyning unique values\n",
    "movie_df['country'].unique()"
   ]
  },
  {
   "cell_type": "markdown",
   "id": "b28ed8ee",
   "metadata": {},
   "source": [
    "&nbsp; &nbsp; &nbsp; &nbsp; &nbsp; &nbsp; There are 59 countries. From that a new variable is created based on `country`, where `Hollywood` means that the movie is from `United States` and `Foreign` if it is from elsewhere."
   ]
  },
  {
   "cell_type": "code",
   "execution_count": 33,
   "id": "555e5d9d",
   "metadata": {},
   "outputs": [
    {
     "name": "stdout",
     "output_type": "stream",
     "text": [
      "                                                name     rating      genre  \\\n",
      "0                                        The Shining          R      Drama   \n",
      "1                                    The Blue Lagoon          R  Adventure   \n",
      "2     Star Wars: Episode V - The Empire Strikes Back         PG     Action   \n",
      "3                                          Airplane!         PG     Comedy   \n",
      "4                                         Caddyshack          R     Comedy   \n",
      "...                                              ...        ...        ...   \n",
      "7652                               The Eight Hundred  Not Rated     Action   \n",
      "7653                                      The Quarry          R      Crime   \n",
      "7656                                           Tulsa      PG-13     Comedy   \n",
      "7658                       Black Wall Street Burning          R      Drama   \n",
      "7659                                       I Am Fear  Not Rated     Horror   \n",
      "\n",
      "      year                          released  score    votes         director  \\\n",
      "0     1980     June 13, 1980 (United States)  8.400   927000  Stanley Kubrick   \n",
      "1     1980      July 2, 1980 (United States)  5.800    65000   Randal Kleiser   \n",
      "2     1980     June 20, 1980 (United States)  8.700  1200000   Irvin Kershner   \n",
      "3     1980      July 2, 1980 (United States)  7.700   221000     Jim Abrahams   \n",
      "4     1980     July 25, 1980 (United States)  7.300   108000     Harold Ramis   \n",
      "...    ...                               ...    ...      ...              ...   \n",
      "7652  2020   August 28, 2020 (United States)  6.800     3700          Hu Guan   \n",
      "7653  2020           April 17, 2020 (Mexico)  5.400     2400      Scott Teems   \n",
      "7656  2020      June 3, 2020 (United States)  5.000      294      Scott Pryor   \n",
      "7658  2020  February 7, 2020 (United States)  6.600       35     Marcus Brown   \n",
      "7659  2020     March 3, 2020 (United States)  3.400      447    Kevin Shulman   \n",
      "\n",
      "                       writer             star         country    budget  \\\n",
      "0                Stephen King   Jack Nicholson  United Kingdom  19000000   \n",
      "1     Henry De Vere Stacpoole   Brooke Shields   United States   4500000   \n",
      "2              Leigh Brackett      Mark Hamill   United States  18000000   \n",
      "3                Jim Abrahams      Robert Hays   United States   3500000   \n",
      "4          Brian Doyle-Murray      Chevy Chase   United States   6000000   \n",
      "...                       ...              ...             ...       ...   \n",
      "7652                  Hu Guan  Zhi-zhong Huang           China  80000000   \n",
      "7653              Scott Teems     Shea Whigham   United States  20500000   \n",
      "7656              Scott Pryor      Scott Pryor   United States  20500000   \n",
      "7658          Dekoven Riggins      Dan Belcher   United States      5000   \n",
      "7659            Kevin Shulman   Kristina Klebe   United States  20500000   \n",
      "\n",
      "          gross                              company  runtime type_country  \n",
      "0      46998772                         Warner Bros.      146      Foreign  \n",
      "1      58853106                    Columbia Pictures      104    Hollywood  \n",
      "2     538375067                            Lucasfilm      124    Hollywood  \n",
      "3      83453539                   Paramount Pictures       88    Hollywood  \n",
      "4      39846344                       Orion Pictures       98    Hollywood  \n",
      "...         ...                                  ...      ...          ...  \n",
      "7652  461421559  Beijing Diqi Yinxiang Entertainment      149      Foreign  \n",
      "7653       3661                     Prowess Pictures       98    Hollywood  \n",
      "7656     413378                  Pryor Entertainment      120    Hollywood  \n",
      "7658   20205757                         Notis Studio       78    Hollywood  \n",
      "7659      13266                        Roxwell Films       87    Hollywood  \n",
      "\n",
      "[7574 rows x 16 columns]\n"
     ]
    }
   ],
   "source": [
    "# Create a new variable 'type_country' based on the 'Country' column\n",
    "movie_df['type_country'] = 'Foreign'  # Default value for all rows\n",
    "movie_df.loc[movie_df['country'] == 'United States', 'type_country'] = 'Hollywood'\n",
    "\n",
    "# Display the updated DataFrame\n",
    "print(movie_df)"
   ]
  },
  {
   "cell_type": "code",
   "execution_count": 34,
   "id": "ea6128c7",
   "metadata": {},
   "outputs": [
    {
     "data": {
      "image/png": "[encoded data removed]",
      "text/plain": [
       "<Figure size 1600x600 with 1 Axes>"
      ]
     },
     "metadata": {},
     "output_type": "display_data"
    }
   ],
   "source": [
    "# Number of Movies per Primary Production Country (Top 20)\n",
    "plt.figure(figsize=(16, 6))\n",
    "sns.countplot(data=movie_df, y='type_country', order=movie_df['type_country'].value_counts().head(20).index, palette=\"viridis\")\n",
    "plt.title('Number of Movies per Type(Top 20)')\n",
    "plt.xlabel('Number of Movies')\n",
    "plt.ylabel('Primary Production Type')\n",
    "plt.show()"
   ]
  },
  {
   "cell_type": "markdown",
   "id": "04640f96",
   "metadata": {},
   "source": [
    "&nbsp; &nbsp; &nbsp; &nbsp; &nbsp; &nbsp; Even thoug `Foreign` has entries from 58 countries while `Hollywood` only has from one, still it doubles the number of entries.\n",
    "<br>"
   ]
  },
  {
   "cell_type": "code",
   "execution_count": 35,
   "id": "d3fb1f56",
   "metadata": {},
   "outputs": [
    {
     "name": "stdout",
     "output_type": "stream",
     "text": [
      "Type: Foreign\n",
      "                            OLS Regression Results                            \n",
      "==============================================================================\n",
      "Dep. Variable:                  gross   R-squared:                       0.508\n",
      "Model:                            OLS   Adj. R-squared:                  0.508\n",
      "Method:                 Least Squares   F-statistic:                     2193.\n",
      "Date:                Mon, 04 Dec 2023   Prob (F-statistic):               0.00\n",
      "Time:                        18:47:56   Log-Likelihood:                -41973.\n",
      "No. Observations:                2128   AIC:                         8.395e+04\n",
      "Df Residuals:                    2126   BIC:                         8.396e+04\n",
      "Df Model:                           1                                         \n",
      "Covariance Type:            nonrobust                                         \n",
      "==============================================================================\n",
      "                 coef    std err          t      P>|t|      [0.025      0.975]\n",
      "------------------------------------------------------------------------------\n",
      "const      -3.726e+07   2.67e+06    -13.977      0.000   -4.25e+07    -3.2e+07\n",
      "budget         3.3418      0.071     46.831      0.000       3.202       3.482\n",
      "==============================================================================\n",
      "Omnibus:                     1840.481   Durbin-Watson:                   1.746\n",
      "Prob(Omnibus):                  0.000   Jarque-Bera (JB):            88649.913\n",
      "Skew:                           3.833   Prob(JB):                         0.00\n",
      "Kurtosis:                      33.677   Cond. No.                     5.15e+07\n",
      "==============================================================================\n",
      "\n",
      "Notes:\n",
      "[1] Standard Errors assume that the covariance matrix of the errors is correctly specified.\n",
      "[2] The condition number is large, 5.15e+07. This might indicate that there are\n",
      "strong multicollinearity or other numerical problems.\n",
      "Type: Hollywood\n",
      "                            OLS Regression Results                            \n",
      "==============================================================================\n",
      "Dep. Variable:                  gross   R-squared:                       0.562\n",
      "Model:                            OLS   Adj. R-squared:                  0.562\n",
      "Method:                 Least Squares   F-statistic:                     6989.\n",
      "Date:                Mon, 04 Dec 2023   Prob (F-statistic):               0.00\n",
      "Time:                        18:47:56   Log-Likelihood:            -1.0887e+05\n",
      "No. Observations:                5446   AIC:                         2.177e+05\n",
      "Df Residuals:                    5444   BIC:                         2.178e+05\n",
      "Df Model:                           1                                         \n",
      "Covariance Type:            nonrobust                                         \n",
      "==============================================================================\n",
      "                 coef    std err          t      P>|t|      [0.025      0.975]\n",
      "------------------------------------------------------------------------------\n",
      "const      -2.624e+07    2.1e+06    -12.521      0.000   -3.03e+07   -2.21e+07\n",
      "budget         3.4167      0.041     83.601      0.000       3.337       3.497\n",
      "==============================================================================\n",
      "Omnibus:                     5095.276   Durbin-Watson:                   1.740\n",
      "Prob(Omnibus):                  0.000   Jarque-Bera (JB):           500611.306\n",
      "Skew:                           4.169   Prob(JB):                         0.00\n",
      "Kurtosis:                      49.224   Cond. No.                     6.81e+07\n",
      "==============================================================================\n",
      "\n",
      "Notes:\n",
      "[1] Standard Errors assume that the covariance matrix of the errors is correctly specified.\n",
      "[2] The condition number is large, 6.81e+07. This might indicate that there are\n",
      "strong multicollinearity or other numerical problems.\n"
     ]
    }
   ],
   "source": [
    "type_country2 = ['Foreign', 'Hollywood']\n",
    "\n",
    "for type_country in type_country2:\n",
    "    # Filter data for the current type_country\n",
    "    type_country_data = movie_df[movie_df['type_country'] == type_country]\n",
    "\n",
    "    # Check if there are enough data points for the regression\n",
    "    if len(type_country_data) < 2:\n",
    "        print(f\"Not enough data points for type_country: {type_country}\")\n",
    "        continue\n",
    "\n",
    "    X = sm.add_constant(type_country_data['budget'])\n",
    "    y = type_country_data['gross']\n",
    "    \n",
    "    model = sm.OLS(y, X).fit()\n",
    "\n",
    "    print(f\"Type: {type_country}\")\n",
    "    print(model.summary())"
   ]
  },
  {
   "cell_type": "markdown",
   "id": "8255090f",
   "metadata": {},
   "source": [
    "From the regressions, we can determine:\n",
    "- _Foreign:_ The adjusted R square is 0.50 which is lower than expected, meaning that only half of `gross` is explain by `budget` . The p-value is less than 0.05 meaning that the `gross` was explained by the previously mentioned variable. The coefficient for budget is 3.34, meaning that for an increase of US 1 dollar in `budget` an increment of 3.34 will occur in `gross`.\n",
    "<br>\n",
    "- _Hollywood:_ The adjusted R square is 0.56, relatively close to the overall regression. The p-value is less than 0.05 meaning that the `gross` was explained by the previously mentioned variable. The coefficient for budget is 3.41, meaning that for an increase of US 1 dollar in `budget` an increment of 3.41 will occur in `gross`.\n",
    "<br>\n",
    "\n",
    "Overall, the results among regressions are very similar which can be an insight as it does not matter whter a movie is produced in the `Unites States` or not, because `budget` is still going to affect `gross`."
   ]
  },
  {
   "cell_type": "markdown",
   "id": "f06610c9",
   "metadata": {},
   "source": [
    "------------------------------------------------------------------------------------------------------------------------------------------------------------------------------"
   ]
  },
  {
   "cell_type": "markdown",
   "id": "172e2568",
   "metadata": {},
   "source": [
    "<div style=\"font-family:Georgia;\">\n",
    "    <h4>5.4 Effect on Genre by Type Country</h4>\n",
    "</div>"
   ]
  },
  {
   "cell_type": "markdown",
   "id": "cfbc1a32",
   "metadata": {},
   "source": [
    "&nbsp; &nbsp; &nbsp; &nbsp; &nbsp; &nbsp; To perform this part of the analysis a dummy variable needs to be created based on `type_country` where the dummy is 1 if the value is `Hollywood` and 0 if it is not."
   ]
  },
  {
   "cell_type": "code",
   "execution_count": 36,
   "id": "ab6b56c4",
   "metadata": {
    "scrolled": true
   },
   "outputs": [
    {
     "data": {
      "text/html": [
       "<div>\n",
       "<style scoped>\n",
       "    .dataframe tbody tr th:only-of-type {\n",
       "        vertical-align: middle;\n",
       "    }\n",
       "\n",
       "    .dataframe tbody tr th {\n",
       "        vertical-align: top;\n",
       "    }\n",
       "\n",
       "    .dataframe thead th {\n",
       "        text-align: right;\n",
       "    }\n",
       "</style>\n",
       "<table border=\"1\" class=\"dataframe\">\n",
       "  <thead>\n",
       "    <tr style=\"text-align: right;\">\n",
       "      <th></th>\n",
       "      <th>name</th>\n",
       "      <th>rating</th>\n",
       "      <th>genre</th>\n",
       "      <th>year</th>\n",
       "      <th>released</th>\n",
       "      <th>score</th>\n",
       "      <th>votes</th>\n",
       "      <th>director</th>\n",
       "      <th>writer</th>\n",
       "      <th>star</th>\n",
       "      <th>country</th>\n",
       "      <th>budget</th>\n",
       "      <th>gross</th>\n",
       "      <th>company</th>\n",
       "      <th>runtime</th>\n",
       "      <th>type_country</th>\n",
       "      <th>is_hollywood</th>\n",
       "    </tr>\n",
       "  </thead>\n",
       "  <tbody>\n",
       "    <tr>\n",
       "      <th>0</th>\n",
       "      <td>The Shining</td>\n",
       "      <td>R</td>\n",
       "      <td>Drama</td>\n",
       "      <td>1980</td>\n",
       "      <td>June 13, 1980 (United States)</td>\n",
       "      <td>8.400</td>\n",
       "      <td>927000</td>\n",
       "      <td>Stanley Kubrick</td>\n",
       "      <td>Stephen King</td>\n",
       "      <td>Jack Nicholson</td>\n",
       "      <td>United Kingdom</td>\n",
       "      <td>19000000</td>\n",
       "      <td>46998772</td>\n",
       "      <td>Warner Bros.</td>\n",
       "      <td>146</td>\n",
       "      <td>Foreign</td>\n",
       "      <td>0</td>\n",
       "    </tr>\n",
       "    <tr>\n",
       "      <th>1</th>\n",
       "      <td>The Blue Lagoon</td>\n",
       "      <td>R</td>\n",
       "      <td>Adventure</td>\n",
       "      <td>1980</td>\n",
       "      <td>July 2, 1980 (United States)</td>\n",
       "      <td>5.800</td>\n",
       "      <td>65000</td>\n",
       "      <td>Randal Kleiser</td>\n",
       "      <td>Henry De Vere Stacpoole</td>\n",
       "      <td>Brooke Shields</td>\n",
       "      <td>United States</td>\n",
       "      <td>4500000</td>\n",
       "      <td>58853106</td>\n",
       "      <td>Columbia Pictures</td>\n",
       "      <td>104</td>\n",
       "      <td>Hollywood</td>\n",
       "      <td>1</td>\n",
       "    </tr>\n",
       "    <tr>\n",
       "      <th>2</th>\n",
       "      <td>Star Wars: Episode V - The Empire Strikes Back</td>\n",
       "      <td>PG</td>\n",
       "      <td>Action</td>\n",
       "      <td>1980</td>\n",
       "      <td>June 20, 1980 (United States)</td>\n",
       "      <td>8.700</td>\n",
       "      <td>1200000</td>\n",
       "      <td>Irvin Kershner</td>\n",
       "      <td>Leigh Brackett</td>\n",
       "      <td>Mark Hamill</td>\n",
       "      <td>United States</td>\n",
       "      <td>18000000</td>\n",
       "      <td>538375067</td>\n",
       "      <td>Lucasfilm</td>\n",
       "      <td>124</td>\n",
       "      <td>Hollywood</td>\n",
       "      <td>1</td>\n",
       "    </tr>\n",
       "    <tr>\n",
       "      <th>3</th>\n",
       "      <td>Airplane!</td>\n",
       "      <td>PG</td>\n",
       "      <td>Comedy</td>\n",
       "      <td>1980</td>\n",
       "      <td>July 2, 1980 (United States)</td>\n",
       "      <td>7.700</td>\n",
       "      <td>221000</td>\n",
       "      <td>Jim Abrahams</td>\n",
       "      <td>Jim Abrahams</td>\n",
       "      <td>Robert Hays</td>\n",
       "      <td>United States</td>\n",
       "      <td>3500000</td>\n",
       "      <td>83453539</td>\n",
       "      <td>Paramount Pictures</td>\n",
       "      <td>88</td>\n",
       "      <td>Hollywood</td>\n",
       "      <td>1</td>\n",
       "    </tr>\n",
       "    <tr>\n",
       "      <th>4</th>\n",
       "      <td>Caddyshack</td>\n",
       "      <td>R</td>\n",
       "      <td>Comedy</td>\n",
       "      <td>1980</td>\n",
       "      <td>July 25, 1980 (United States)</td>\n",
       "      <td>7.300</td>\n",
       "      <td>108000</td>\n",
       "      <td>Harold Ramis</td>\n",
       "      <td>Brian Doyle-Murray</td>\n",
       "      <td>Chevy Chase</td>\n",
       "      <td>United States</td>\n",
       "      <td>6000000</td>\n",
       "      <td>39846344</td>\n",
       "      <td>Orion Pictures</td>\n",
       "      <td>98</td>\n",
       "      <td>Hollywood</td>\n",
       "      <td>1</td>\n",
       "    </tr>\n",
       "    <tr>\n",
       "      <th>...</th>\n",
       "      <td>...</td>\n",
       "      <td>...</td>\n",
       "      <td>...</td>\n",
       "      <td>...</td>\n",
       "      <td>...</td>\n",
       "      <td>...</td>\n",
       "      <td>...</td>\n",
       "      <td>...</td>\n",
       "      <td>...</td>\n",
       "      <td>...</td>\n",
       "      <td>...</td>\n",
       "      <td>...</td>\n",
       "      <td>...</td>\n",
       "      <td>...</td>\n",
       "      <td>...</td>\n",
       "      <td>...</td>\n",
       "      <td>...</td>\n",
       "    </tr>\n",
       "    <tr>\n",
       "      <th>7652</th>\n",
       "      <td>The Eight Hundred</td>\n",
       "      <td>Not Rated</td>\n",
       "      <td>Action</td>\n",
       "      <td>2020</td>\n",
       "      <td>August 28, 2020 (United States)</td>\n",
       "      <td>6.800</td>\n",
       "      <td>3700</td>\n",
       "      <td>Hu Guan</td>\n",
       "      <td>Hu Guan</td>\n",
       "      <td>Zhi-zhong Huang</td>\n",
       "      <td>China</td>\n",
       "      <td>80000000</td>\n",
       "      <td>461421559</td>\n",
       "      <td>Beijing Diqi Yinxiang Entertainment</td>\n",
       "      <td>149</td>\n",
       "      <td>Foreign</td>\n",
       "      <td>0</td>\n",
       "    </tr>\n",
       "    <tr>\n",
       "      <th>7653</th>\n",
       "      <td>The Quarry</td>\n",
       "      <td>R</td>\n",
       "      <td>Crime</td>\n",
       "      <td>2020</td>\n",
       "      <td>April 17, 2020 (Mexico)</td>\n",
       "      <td>5.400</td>\n",
       "      <td>2400</td>\n",
       "      <td>Scott Teems</td>\n",
       "      <td>Scott Teems</td>\n",
       "      <td>Shea Whigham</td>\n",
       "      <td>United States</td>\n",
       "      <td>20500000</td>\n",
       "      <td>3661</td>\n",
       "      <td>Prowess Pictures</td>\n",
       "      <td>98</td>\n",
       "      <td>Hollywood</td>\n",
       "      <td>1</td>\n",
       "    </tr>\n",
       "    <tr>\n",
       "      <th>7656</th>\n",
       "      <td>Tulsa</td>\n",
       "      <td>PG-13</td>\n",
       "      <td>Comedy</td>\n",
       "      <td>2020</td>\n",
       "      <td>June 3, 2020 (United States)</td>\n",
       "      <td>5.000</td>\n",
       "      <td>294</td>\n",
       "      <td>Scott Pryor</td>\n",
       "      <td>Scott Pryor</td>\n",
       "      <td>Scott Pryor</td>\n",
       "      <td>United States</td>\n",
       "      <td>20500000</td>\n",
       "      <td>413378</td>\n",
       "      <td>Pryor Entertainment</td>\n",
       "      <td>120</td>\n",
       "      <td>Hollywood</td>\n",
       "      <td>1</td>\n",
       "    </tr>\n",
       "    <tr>\n",
       "      <th>7658</th>\n",
       "      <td>Black Wall Street Burning</td>\n",
       "      <td>R</td>\n",
       "      <td>Drama</td>\n",
       "      <td>2020</td>\n",
       "      <td>February 7, 2020 (United States)</td>\n",
       "      <td>6.600</td>\n",
       "      <td>35</td>\n",
       "      <td>Marcus Brown</td>\n",
       "      <td>Dekoven Riggins</td>\n",
       "      <td>Dan Belcher</td>\n",
       "      <td>United States</td>\n",
       "      <td>5000</td>\n",
       "      <td>20205757</td>\n",
       "      <td>Notis Studio</td>\n",
       "      <td>78</td>\n",
       "      <td>Hollywood</td>\n",
       "      <td>1</td>\n",
       "    </tr>\n",
       "    <tr>\n",
       "      <th>7659</th>\n",
       "      <td>I Am Fear</td>\n",
       "      <td>Not Rated</td>\n",
       "      <td>Horror</td>\n",
       "      <td>2020</td>\n",
       "      <td>March 3, 2020 (United States)</td>\n",
       "      <td>3.400</td>\n",
       "      <td>447</td>\n",
       "      <td>Kevin Shulman</td>\n",
       "      <td>Kevin Shulman</td>\n",
       "      <td>Kristina Klebe</td>\n",
       "      <td>United States</td>\n",
       "      <td>20500000</td>\n",
       "      <td>13266</td>\n",
       "      <td>Roxwell Films</td>\n",
       "      <td>87</td>\n",
       "      <td>Hollywood</td>\n",
       "      <td>1</td>\n",
       "    </tr>\n",
       "  </tbody>\n",
       "</table>\n",
       "<p>7574 rows × 17 columns</p>\n",
       "</div>"
      ],
      "text/plain": [
       "                                                name     rating      genre  \\\n",
       "0                                        The Shining          R      Drama   \n",
       "1                                    The Blue Lagoon          R  Adventure   \n",
       "2     Star Wars: Episode V - The Empire Strikes Back         PG     Action   \n",
       "3                                          Airplane!         PG     Comedy   \n",
       "4                                         Caddyshack          R     Comedy   \n",
       "...                                              ...        ...        ...   \n",
       "7652                               The Eight Hundred  Not Rated     Action   \n",
       "7653                                      The Quarry          R      Crime   \n",
       "7656                                           Tulsa      PG-13     Comedy   \n",
       "7658                       Black Wall Street Burning          R      Drama   \n",
       "7659                                       I Am Fear  Not Rated     Horror   \n",
       "\n",
       "      year                          released  score    votes         director  \\\n",
       "0     1980     June 13, 1980 (United States)  8.400   927000  Stanley Kubrick   \n",
       "1     1980      July 2, 1980 (United States)  5.800    65000   Randal Kleiser   \n",
       "2     1980     June 20, 1980 (United States)  8.700  1200000   Irvin Kershner   \n",
       "3     1980      July 2, 1980 (United States)  7.700   221000     Jim Abrahams   \n",
       "4     1980     July 25, 1980 (United States)  7.300   108000     Harold Ramis   \n",
       "...    ...                               ...    ...      ...              ...   \n",
       "7652  2020   August 28, 2020 (United States)  6.800     3700          Hu Guan   \n",
       "7653  2020           April 17, 2020 (Mexico)  5.400     2400      Scott Teems   \n",
       "7656  2020      June 3, 2020 (United States)  5.000      294      Scott Pryor   \n",
       "7658  2020  February 7, 2020 (United States)  6.600       35     Marcus Brown   \n",
       "7659  2020     March 3, 2020 (United States)  3.400      447    Kevin Shulman   \n",
       "\n",
       "                       writer             star         country    budget  \\\n",
       "0                Stephen King   Jack Nicholson  United Kingdom  19000000   \n",
       "1     Henry De Vere Stacpoole   Brooke Shields   United States   4500000   \n",
       "2              Leigh Brackett      Mark Hamill   United States  18000000   \n",
       "3                Jim Abrahams      Robert Hays   United States   3500000   \n",
       "4          Brian Doyle-Murray      Chevy Chase   United States   6000000   \n",
       "...                       ...              ...             ...       ...   \n",
       "7652                  Hu Guan  Zhi-zhong Huang           China  80000000   \n",
       "7653              Scott Teems     Shea Whigham   United States  20500000   \n",
       "7656              Scott Pryor      Scott Pryor   United States  20500000   \n",
       "7658          Dekoven Riggins      Dan Belcher   United States      5000   \n",
       "7659            Kevin Shulman   Kristina Klebe   United States  20500000   \n",
       "\n",
       "          gross                              company  runtime type_country  \\\n",
       "0      46998772                         Warner Bros.      146      Foreign   \n",
       "1      58853106                    Columbia Pictures      104    Hollywood   \n",
       "2     538375067                            Lucasfilm      124    Hollywood   \n",
       "3      83453539                   Paramount Pictures       88    Hollywood   \n",
       "4      39846344                       Orion Pictures       98    Hollywood   \n",
       "...         ...                                  ...      ...          ...   \n",
       "7652  461421559  Beijing Diqi Yinxiang Entertainment      149      Foreign   \n",
       "7653       3661                     Prowess Pictures       98    Hollywood   \n",
       "7656     413378                  Pryor Entertainment      120    Hollywood   \n",
       "7658   20205757                         Notis Studio       78    Hollywood   \n",
       "7659      13266                        Roxwell Films       87    Hollywood   \n",
       "\n",
       "      is_hollywood  \n",
       "0                0  \n",
       "1                1  \n",
       "2                1  \n",
       "3                1  \n",
       "4                1  \n",
       "...            ...  \n",
       "7652             0  \n",
       "7653             1  \n",
       "7656             1  \n",
       "7658             1  \n",
       "7659             1  \n",
       "\n",
       "[7574 rows x 17 columns]"
      ]
     },
     "execution_count": 36,
     "metadata": {},
     "output_type": "execute_result"
    }
   ],
   "source": [
    "# Create a dummy variable for 'Hollywood'\n",
    "movie_df['is_hollywood'] = (movie_df['type_country'] == 'Hollywood').astype(int)\n",
    "movie_df"
   ]
  },
  {
   "cell_type": "code",
   "execution_count": 37,
   "id": "48c8263b",
   "metadata": {},
   "outputs": [
    {
     "name": "stdout",
     "output_type": "stream",
     "text": [
      "Genre: Comedy\n",
      "                            OLS Regression Results                            \n",
      "==============================================================================\n",
      "Dep. Variable:                  gross   R-squared:                       0.281\n",
      "Model:                            OLS   Adj. R-squared:                  0.280\n",
      "Method:                 Least Squares   F-statistic:                     435.5\n",
      "Date:                Mon, 04 Dec 2023   Prob (F-statistic):          2.39e-160\n",
      "Time:                        18:47:56   Log-Likelihood:                -43093.\n",
      "No. Observations:                2230   AIC:                         8.619e+04\n",
      "Df Residuals:                    2227   BIC:                         8.621e+04\n",
      "Df Model:                           2                                         \n",
      "Covariance Type:            nonrobust                                         \n",
      "================================================================================\n",
      "                   coef    std err          t      P>|t|      [0.025      0.975]\n",
      "--------------------------------------------------------------------------------\n",
      "const        -1.499e+07   3.21e+06     -4.670      0.000   -2.13e+07    -8.7e+06\n",
      "budget           2.1413      0.075     28.705      0.000       1.995       2.288\n",
      "is_hollywood  1.493e+07   3.21e+06      4.657      0.000    8.64e+06    2.12e+07\n",
      "==============================================================================\n",
      "Omnibus:                     1463.780   Durbin-Watson:                   1.499\n",
      "Prob(Omnibus):                  0.000   Jarque-Bera (JB):            21276.645\n",
      "Skew:                           2.915   Prob(JB):                         0.00\n",
      "Kurtosis:                      16.964   Cond. No.                     9.35e+07\n",
      "==============================================================================\n",
      "\n",
      "Notes:\n",
      "[1] Standard Errors assume that the covariance matrix of the errors is correctly specified.\n",
      "[2] The condition number is large, 9.35e+07. This might indicate that there are\n",
      "strong multicollinearity or other numerical problems.\n",
      "Genre: Action\n",
      "                            OLS Regression Results                            \n",
      "==============================================================================\n",
      "Dep. Variable:                  gross   R-squared:                       0.596\n",
      "Model:                            OLS   Adj. R-squared:                  0.595\n",
      "Method:                 Least Squares   F-statistic:                     1247.\n",
      "Date:                Mon, 04 Dec 2023   Prob (F-statistic):               0.00\n",
      "Time:                        18:47:56   Log-Likelihood:                -34387.\n",
      "No. Observations:                1695   AIC:                         6.878e+04\n",
      "Df Residuals:                    1692   BIC:                         6.880e+04\n",
      "Df Model:                           2                                         \n",
      "Covariance Type:            nonrobust                                         \n",
      "================================================================================\n",
      "                   coef    std err          t      P>|t|      [0.025      0.975]\n",
      "--------------------------------------------------------------------------------\n",
      "const        -3.905e+07   8.29e+06     -4.711      0.000   -5.53e+07   -2.28e+07\n",
      "budget           3.6003      0.073     49.505      0.000       3.458       3.743\n",
      "is_hollywood -6.595e+06   9.04e+06     -0.729      0.466   -2.43e+07    1.11e+07\n",
      "==============================================================================\n",
      "Omnibus:                     1376.338   Durbin-Watson:                   1.705\n",
      "Prob(Omnibus):                  0.000   Jarque-Bera (JB):            71691.377\n",
      "Skew:                           3.394   Prob(JB):                         0.00\n",
      "Kurtosis:                      34.129   Cond. No.                     2.25e+08\n",
      "==============================================================================\n",
      "\n",
      "Notes:\n",
      "[1] Standard Errors assume that the covariance matrix of the errors is correctly specified.\n",
      "[2] The condition number is large, 2.25e+08. This might indicate that there are\n",
      "strong multicollinearity or other numerical problems.\n",
      "Genre: Drama\n",
      "                            OLS Regression Results                            \n",
      "==============================================================================\n",
      "Dep. Variable:                  gross   R-squared:                       0.303\n",
      "Model:                            OLS   Adj. R-squared:                  0.302\n",
      "Method:                 Least Squares   F-statistic:                     320.4\n",
      "Date:                Mon, 04 Dec 2023   Prob (F-statistic):          2.92e-116\n",
      "Time:                        18:47:56   Log-Likelihood:                -28940.\n",
      "No. Observations:                1476   AIC:                         5.789e+04\n",
      "Df Residuals:                    1473   BIC:                         5.790e+04\n",
      "Df Model:                           2                                         \n",
      "Covariance Type:            nonrobust                                         \n",
      "================================================================================\n",
      "                   coef    std err          t      P>|t|      [0.025      0.975]\n",
      "--------------------------------------------------------------------------------\n",
      "const        -3.675e+07   4.03e+06     -9.108      0.000   -4.47e+07   -2.88e+07\n",
      "budget           2.7921      0.115     24.250      0.000       2.566       3.018\n",
      "is_hollywood  2.306e+07   4.23e+06      5.448      0.000    1.48e+07    3.14e+07\n",
      "==============================================================================\n",
      "Omnibus:                     2124.162   Durbin-Watson:                   1.767\n",
      "Prob(Omnibus):                  0.000   Jarque-Bera (JB):          1176589.137\n",
      "Skew:                           7.984   Prob(JB):                         0.00\n",
      "Kurtosis:                     140.392   Cond. No.                     7.18e+07\n",
      "==============================================================================\n",
      "\n",
      "Notes:\n",
      "[1] Standard Errors assume that the covariance matrix of the errors is correctly specified.\n",
      "[2] The condition number is large, 7.18e+07. This might indicate that there are\n",
      "strong multicollinearity or other numerical problems.\n",
      "Genre: Crime\n",
      "                            OLS Regression Results                            \n",
      "==============================================================================\n",
      "Dep. Variable:                  gross   R-squared:                       0.338\n",
      "Model:                            OLS   Adj. R-squared:                  0.335\n",
      "Method:                 Least Squares   F-statistic:                     137.8\n",
      "Date:                Mon, 04 Dec 2023   Prob (F-statistic):           4.25e-49\n",
      "Time:                        18:47:56   Log-Likelihood:                -10538.\n",
      "No. Observations:                 544   AIC:                         2.108e+04\n",
      "Df Residuals:                     541   BIC:                         2.109e+04\n",
      "Df Model:                           2                                         \n",
      "Covariance Type:            nonrobust                                         \n",
      "================================================================================\n",
      "                   coef    std err          t      P>|t|      [0.025      0.975]\n",
      "--------------------------------------------------------------------------------\n",
      "const        -2.726e+07   5.75e+06     -4.743      0.000   -3.86e+07    -1.6e+07\n",
      "budget           2.5157      0.157     16.003      0.000       2.207       2.825\n",
      "is_hollywood  1.674e+07   5.87e+06      2.850      0.005     5.2e+06    2.83e+07\n",
      "==============================================================================\n",
      "Omnibus:                      763.643   Durbin-Watson:                   1.826\n",
      "Prob(Omnibus):                  0.000   Jarque-Bera (JB):           215324.088\n",
      "Skew:                           7.149   Prob(JB):                         0.00\n",
      "Kurtosis:                      99.411   Cond. No.                     7.73e+07\n",
      "==============================================================================\n",
      "\n",
      "Notes:\n",
      "[1] Standard Errors assume that the covariance matrix of the errors is correctly specified.\n",
      "[2] The condition number is large, 7.73e+07. This might indicate that there are\n",
      "strong multicollinearity or other numerical problems.\n"
     ]
    }
   ],
   "source": [
    "# Assuming 'movie_df' is your dataset\n",
    "selected_genres = ['Comedy', 'Action', 'Drama', 'Crime']\n",
    "filtered_movie_df = movie_df[movie_df['genre'].isin(selected_genres)]\n",
    "\n",
    "for genre in selected_genres:\n",
    "    genre_data = filtered_movie_df[filtered_movie_df['genre'] == genre]\n",
    "\n",
    "    # Check if there are enough data points for the regression\n",
    "    if len(genre_data) < 2:\n",
    "        print(f\"Not enough data points for genre: {genre}\")\n",
    "        continue\n",
    "\n",
    "    X = sm.add_constant(genre_data[['budget', 'is_hollywood']])\n",
    "    y = genre_data['gross']\n",
    "    \n",
    "    model = sm.OLS(y, X).fit()\n",
    "\n",
    "    print(f\"Genre: {genre}\")\n",
    "    print(model.summary())"
   ]
  },
  {
   "cell_type": "markdown",
   "id": "6d78b0ed",
   "metadata": {},
   "source": [
    "From the regressions, we can determine:\n",
    "- Adding the `is_hollywood`variable seems to increase all R squares compared to the regressions in section 5.2 Genres meaning that this helps explain the relationship between our variables. \n",
    "- Still the coefficient for the dummy is a small number meaning that if the movie is from `Hollywood` the gross will not increase by much in that specific genre."
   ]
  },
  {
   "cell_type": "markdown",
   "id": "eea10467",
   "metadata": {},
   "source": [
    "------------------------------------------------------------------------------------------------------------------------------------------------------------------------------"
   ]
  },
  {
   "cell_type": "markdown",
   "id": "94f5e75f",
   "metadata": {},
   "source": [
    "<div style=\"font-family:Georgia;\">\n",
    "    <h3>6. Conclusion:</h1>\n",
    "</div>"
   ]
  },
  {
   "cell_type": "markdown",
   "id": "edbaa80f",
   "metadata": {},
   "source": [
    "&nbsp; &nbsp; &nbsp; &nbsp; &nbsp; &nbsp; This project has provided a deep dive into the multifaceted nature of the film industry through the meticulous analysis of a Kaggle movie dataset. By harnessing the power of Python and its libraries, we successfully imported, cleansed, and transformed the dataset, paving the way for accurate data analysis and hypothesis testing.\n",
    "<br>\n",
    "\n",
    "&nbsp; &nbsp; &nbsp; &nbsp; &nbsp; &nbsp; To deepen our understanding, an Ordinary Least Squares (OLS) regression analysis was conducted. The results were revealing: with an R-squared value of 0.557, it was determined that approximately 55% of the variability in gross earnings can be explained by the movie's budget. This suggests that while budget is a significant factor in determining a movie's gross earnings, other elements at play also influence financial success. The p-value, being less than 0.05, reinforces the statistical significance of the budget's impact. The regression analysis also yielded an intriguing insight: for every additional dollar invested in the budget, there is an expected increase of $3.42 in gross earnings. This finding not only substantiates the initial hypothesis about the relationship between budget and gross but also quantifies the extent of this impact.\n",
    "<br>\n",
    "\n",
    "&nbsp; &nbsp; &nbsp; &nbsp; &nbsp; &nbsp; Further analysis of the Kaggle movie dataset tests our hypothesis by exploring the relationship between budget and gross earnings across different genres and the distinction between Hollywood and Foreign films. This nuanced approach was vital in understanding the varying impact of budget on gross earnings within different film industry segments.\n",
    "<br>\n",
    "\n",
    "&nbsp; &nbsp; &nbsp; &nbsp; &nbsp; &nbsp;  In the genre-specific analysis, which focused on genres with more than 500 entries for robustness, notable differences were observed. While Comedy, Drama, and Crime genres showed similar budget patterns, their gross earnings varied slightly. Action genre stood out with the highest average gross and budget. The regression analyses for each genre revealed different degrees of correlation between budget and gross:\n",
    "- _Comedy:_ With an adjusted R-squared of 0.27, the analysis indicated that budget accounts for 27% of the variance in gross earnings.\n",
    "- _Crime:_ Exhibited a slightly higher correlation with an adjusted R-squared of 0.32.\n",
    "- _Action:_ Showed a strong correlation, with an adjusted R-squared of 0.596, aligning closely with the overall regression analysis.\n",
    "- _Drama:_ Presented an adjusted R-squared of 0.28, similar to Comedy and Crime genres.\n",
    "<br>\n",
    "\n",
    "&nbsp; &nbsp; &nbsp; &nbsp; &nbsp; &nbsp; These findings confirmed that budget influences gross earnings across genres, although the extent of this influence varies, ranging from 28% to 60%.\n",
    "Further differentiation based on the movie's origin (Hollywood vs. Foreign) yielded more insights:\n",
    "- _Foreign Films:_ Demonstrated that half of the variance in gross earnings could be explained by budget, with an adjusted R-squared of 0.50.\n",
    "- _Hollywood Films:_ Showed a slightly stronger correlation with an adjusted R-squared of 0.56.\n",
    "<br>\n",
    "\n",
    "&nbsp; &nbsp; &nbsp; &nbsp; &nbsp; &nbsp; Interestingly, adding a dummy variable indicating whether a movie is Hollywood-produced or not slightly increased all R-squared values in the genre-based regression analyses. This suggests that being a Hollywood production does contribute to the explanation of gross earnings. However, the dummy variable's coefficient indicated that the gross increase due to Hollywood production is small within specific genres.\n",
    "\n",
    "&nbsp; &nbsp; &nbsp; &nbsp; &nbsp; &nbsp; In conclusion, this comprehensive analysis illustrates that while budget is a significant factor in determining a movie's gross earnings, its impact varies across genres and is influenced by whether the film is a Hollywood production. These insights provide a detailed understanding of the economic dynamics within the film industry, highlighting the nuanced interplay between financial investment, genre, and geographical origin in shaping a movie's commercial success. The findings from this study are invaluable for filmmakers, producers, and industry analysts, offering a data-driven basis for strategic decision-making in film production and marketing."
   ]
  }
 ],
 "metadata": {
  "kernelspec": {
   "display_name": "Python 3 (ipykernel)",
   "language": "python",
   "name": "python3"
  },
  "language_info": {
   "codemirror_mode": {
    "name": "ipython",
    "version": 3
   },
   "file_extension": ".py",
   "mimetype": "text/x-python",
   "name": "python",
   "nbconvert_exporter": "python",
   "pygments_lexer": "ipython3",
   "version": "3.10.9"
  }
 },
 "nbformat": 4,
 "nbformat_minor": 5
}
